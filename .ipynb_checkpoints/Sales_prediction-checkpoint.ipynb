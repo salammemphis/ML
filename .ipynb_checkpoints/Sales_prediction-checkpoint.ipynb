{
 "cells": [
  {
   "cell_type": "markdown",
   "metadata": {},
   "source": [
    "1. Is there any significant difference in sales for different Stores ?\n",
    "==================\n",
    "2. Is sales depended on days ?\n",
    "=========\n",
    "2. Forcasting Sales for future date so that management can allocate more resources based on needs\n",
    "============"
   ]
  },
  {
   "cell_type": "markdown",
   "metadata": {},
   "source": [
    "A. Read data\n",
    "==========="
   ]
  },
  {
   "cell_type": "code",
   "execution_count": 96,
   "metadata": {},
   "outputs": [
    {
     "data": {
      "text/plain": [
       "Store                          0\n",
       "StoreType                      0\n",
       "Assortment                     0\n",
       "CompetitionDistance            3\n",
       "CompetitionOpenSinceMonth    354\n",
       "CompetitionOpenSinceYear     354\n",
       "Promo2                         0\n",
       "Promo2SinceWeek              544\n",
       "Promo2SinceYear              544\n",
       "PromoInterval                544\n",
       "dtype: int64"
      ]
     },
     "execution_count": 96,
     "metadata": {},
     "output_type": "execute_result"
    }
   ],
   "source": [
    "import numpy as np\n",
    "import pandas as pd\n",
    "from sklearn.datasets import make_regression, make_classification\n",
    "\n",
    "\n",
    "train=pd.read_csv(\"dataset/train.csv\")\n",
    "test=pd.read_csv(\"dataset/test.csv\")\n",
    "store=pd.read_csv(\"dataset/store.csv\")\n",
    "\n",
    "\n"
   ]
  },
  {
   "cell_type": "code",
   "execution_count": null,
   "metadata": {},
   "outputs": [],
   "source": [
    "#in case if you dont have a dataset. Generate some artificial dataset\n",
    "n_features=18\n",
    "train, y = make_regression(n_samples=1000, n_features=n_features, n_informative=5, random_state=1)\n",
    "x_train,x_test,y_train, y_test=train_test_split(train,y,test_size=0.2,random_state=42)"
   ]
  },
  {
   "cell_type": "markdown",
   "metadata": {},
   "source": [
    "B. Fill missing Values and join Tables\n",
    "==============\n",
    "Becareful about data leakage"
   ]
  },
  {
   "cell_type": "code",
   "execution_count": 90,
   "metadata": {},
   "outputs": [
    {
     "name": "stdout",
     "output_type": "stream",
     "text": [
      "0\n"
     ]
    },
    {
     "data": {
      "text/html": [
       "<div>\n",
       "<style scoped>\n",
       "    .dataframe tbody tr th:only-of-type {\n",
       "        vertical-align: middle;\n",
       "    }\n",
       "\n",
       "    .dataframe tbody tr th {\n",
       "        vertical-align: top;\n",
       "    }\n",
       "\n",
       "    .dataframe thead th {\n",
       "        text-align: right;\n",
       "    }\n",
       "</style>\n",
       "<table border=\"1\" class=\"dataframe\">\n",
       "  <thead>\n",
       "    <tr style=\"text-align: right;\">\n",
       "      <th></th>\n",
       "      <th>Store</th>\n",
       "      <th>DayOfWeek</th>\n",
       "      <th>Date</th>\n",
       "      <th>Sales</th>\n",
       "      <th>Customers</th>\n",
       "      <th>Open</th>\n",
       "      <th>Promo</th>\n",
       "      <th>StateHoliday</th>\n",
       "      <th>SchoolHoliday</th>\n",
       "      <th>StoreType</th>\n",
       "      <th>Assortment</th>\n",
       "      <th>CompetitionDistance</th>\n",
       "      <th>CompetitionOpenSinceMonth</th>\n",
       "      <th>CompetitionOpenSinceYear</th>\n",
       "      <th>Promo2</th>\n",
       "      <th>Promo2SinceWeek</th>\n",
       "      <th>Promo2SinceYear</th>\n",
       "      <th>PromoInterval</th>\n",
       "    </tr>\n",
       "  </thead>\n",
       "  <tbody>\n",
       "    <tr>\n",
       "      <th>0</th>\n",
       "      <td>1</td>\n",
       "      <td>5</td>\n",
       "      <td>2015-07-31</td>\n",
       "      <td>5263</td>\n",
       "      <td>555</td>\n",
       "      <td>1</td>\n",
       "      <td>1</td>\n",
       "      <td>0</td>\n",
       "      <td>1</td>\n",
       "      <td>c</td>\n",
       "      <td>a</td>\n",
       "      <td>1270.0</td>\n",
       "      <td>9.0</td>\n",
       "      <td>2008.0</td>\n",
       "      <td>0</td>\n",
       "      <td>0.0</td>\n",
       "      <td>0.0</td>\n",
       "      <td>0</td>\n",
       "    </tr>\n",
       "    <tr>\n",
       "      <th>1</th>\n",
       "      <td>1</td>\n",
       "      <td>4</td>\n",
       "      <td>2015-07-30</td>\n",
       "      <td>5020</td>\n",
       "      <td>546</td>\n",
       "      <td>1</td>\n",
       "      <td>1</td>\n",
       "      <td>0</td>\n",
       "      <td>1</td>\n",
       "      <td>c</td>\n",
       "      <td>a</td>\n",
       "      <td>1270.0</td>\n",
       "      <td>9.0</td>\n",
       "      <td>2008.0</td>\n",
       "      <td>0</td>\n",
       "      <td>0.0</td>\n",
       "      <td>0.0</td>\n",
       "      <td>0</td>\n",
       "    </tr>\n",
       "    <tr>\n",
       "      <th>2</th>\n",
       "      <td>1</td>\n",
       "      <td>3</td>\n",
       "      <td>2015-07-29</td>\n",
       "      <td>4782</td>\n",
       "      <td>523</td>\n",
       "      <td>1</td>\n",
       "      <td>1</td>\n",
       "      <td>0</td>\n",
       "      <td>1</td>\n",
       "      <td>c</td>\n",
       "      <td>a</td>\n",
       "      <td>1270.0</td>\n",
       "      <td>9.0</td>\n",
       "      <td>2008.0</td>\n",
       "      <td>0</td>\n",
       "      <td>0.0</td>\n",
       "      <td>0.0</td>\n",
       "      <td>0</td>\n",
       "    </tr>\n",
       "    <tr>\n",
       "      <th>3</th>\n",
       "      <td>1</td>\n",
       "      <td>2</td>\n",
       "      <td>2015-07-28</td>\n",
       "      <td>5011</td>\n",
       "      <td>560</td>\n",
       "      <td>1</td>\n",
       "      <td>1</td>\n",
       "      <td>0</td>\n",
       "      <td>1</td>\n",
       "      <td>c</td>\n",
       "      <td>a</td>\n",
       "      <td>1270.0</td>\n",
       "      <td>9.0</td>\n",
       "      <td>2008.0</td>\n",
       "      <td>0</td>\n",
       "      <td>0.0</td>\n",
       "      <td>0.0</td>\n",
       "      <td>0</td>\n",
       "    </tr>\n",
       "    <tr>\n",
       "      <th>4</th>\n",
       "      <td>1</td>\n",
       "      <td>1</td>\n",
       "      <td>2015-07-27</td>\n",
       "      <td>6102</td>\n",
       "      <td>612</td>\n",
       "      <td>1</td>\n",
       "      <td>1</td>\n",
       "      <td>0</td>\n",
       "      <td>1</td>\n",
       "      <td>c</td>\n",
       "      <td>a</td>\n",
       "      <td>1270.0</td>\n",
       "      <td>9.0</td>\n",
       "      <td>2008.0</td>\n",
       "      <td>0</td>\n",
       "      <td>0.0</td>\n",
       "      <td>0.0</td>\n",
       "      <td>0</td>\n",
       "    </tr>\n",
       "    <tr>\n",
       "      <th>5</th>\n",
       "      <td>1</td>\n",
       "      <td>7</td>\n",
       "      <td>2015-07-26</td>\n",
       "      <td>0</td>\n",
       "      <td>0</td>\n",
       "      <td>0</td>\n",
       "      <td>0</td>\n",
       "      <td>0</td>\n",
       "      <td>0</td>\n",
       "      <td>c</td>\n",
       "      <td>a</td>\n",
       "      <td>1270.0</td>\n",
       "      <td>9.0</td>\n",
       "      <td>2008.0</td>\n",
       "      <td>0</td>\n",
       "      <td>0.0</td>\n",
       "      <td>0.0</td>\n",
       "      <td>0</td>\n",
       "    </tr>\n",
       "    <tr>\n",
       "      <th>6</th>\n",
       "      <td>1</td>\n",
       "      <td>6</td>\n",
       "      <td>2015-07-25</td>\n",
       "      <td>4364</td>\n",
       "      <td>500</td>\n",
       "      <td>1</td>\n",
       "      <td>0</td>\n",
       "      <td>0</td>\n",
       "      <td>0</td>\n",
       "      <td>c</td>\n",
       "      <td>a</td>\n",
       "      <td>1270.0</td>\n",
       "      <td>9.0</td>\n",
       "      <td>2008.0</td>\n",
       "      <td>0</td>\n",
       "      <td>0.0</td>\n",
       "      <td>0.0</td>\n",
       "      <td>0</td>\n",
       "    </tr>\n",
       "    <tr>\n",
       "      <th>7</th>\n",
       "      <td>1</td>\n",
       "      <td>5</td>\n",
       "      <td>2015-07-24</td>\n",
       "      <td>3706</td>\n",
       "      <td>459</td>\n",
       "      <td>1</td>\n",
       "      <td>0</td>\n",
       "      <td>0</td>\n",
       "      <td>0</td>\n",
       "      <td>c</td>\n",
       "      <td>a</td>\n",
       "      <td>1270.0</td>\n",
       "      <td>9.0</td>\n",
       "      <td>2008.0</td>\n",
       "      <td>0</td>\n",
       "      <td>0.0</td>\n",
       "      <td>0.0</td>\n",
       "      <td>0</td>\n",
       "    </tr>\n",
       "    <tr>\n",
       "      <th>8</th>\n",
       "      <td>1</td>\n",
       "      <td>4</td>\n",
       "      <td>2015-07-23</td>\n",
       "      <td>3769</td>\n",
       "      <td>503</td>\n",
       "      <td>1</td>\n",
       "      <td>0</td>\n",
       "      <td>0</td>\n",
       "      <td>0</td>\n",
       "      <td>c</td>\n",
       "      <td>a</td>\n",
       "      <td>1270.0</td>\n",
       "      <td>9.0</td>\n",
       "      <td>2008.0</td>\n",
       "      <td>0</td>\n",
       "      <td>0.0</td>\n",
       "      <td>0.0</td>\n",
       "      <td>0</td>\n",
       "    </tr>\n",
       "    <tr>\n",
       "      <th>9</th>\n",
       "      <td>1</td>\n",
       "      <td>3</td>\n",
       "      <td>2015-07-22</td>\n",
       "      <td>3464</td>\n",
       "      <td>463</td>\n",
       "      <td>1</td>\n",
       "      <td>0</td>\n",
       "      <td>0</td>\n",
       "      <td>0</td>\n",
       "      <td>c</td>\n",
       "      <td>a</td>\n",
       "      <td>1270.0</td>\n",
       "      <td>9.0</td>\n",
       "      <td>2008.0</td>\n",
       "      <td>0</td>\n",
       "      <td>0.0</td>\n",
       "      <td>0.0</td>\n",
       "      <td>0</td>\n",
       "    </tr>\n",
       "  </tbody>\n",
       "</table>\n",
       "</div>"
      ],
      "text/plain": [
       "   Store  DayOfWeek        Date  Sales  Customers  Open  Promo StateHoliday  \\\n",
       "0      1          5  2015-07-31   5263        555     1      1            0   \n",
       "1      1          4  2015-07-30   5020        546     1      1            0   \n",
       "2      1          3  2015-07-29   4782        523     1      1            0   \n",
       "3      1          2  2015-07-28   5011        560     1      1            0   \n",
       "4      1          1  2015-07-27   6102        612     1      1            0   \n",
       "5      1          7  2015-07-26      0          0     0      0            0   \n",
       "6      1          6  2015-07-25   4364        500     1      0            0   \n",
       "7      1          5  2015-07-24   3706        459     1      0            0   \n",
       "8      1          4  2015-07-23   3769        503     1      0            0   \n",
       "9      1          3  2015-07-22   3464        463     1      0            0   \n",
       "\n",
       "   SchoolHoliday StoreType Assortment  CompetitionDistance  \\\n",
       "0              1         c          a               1270.0   \n",
       "1              1         c          a               1270.0   \n",
       "2              1         c          a               1270.0   \n",
       "3              1         c          a               1270.0   \n",
       "4              1         c          a               1270.0   \n",
       "5              0         c          a               1270.0   \n",
       "6              0         c          a               1270.0   \n",
       "7              0         c          a               1270.0   \n",
       "8              0         c          a               1270.0   \n",
       "9              0         c          a               1270.0   \n",
       "\n",
       "   CompetitionOpenSinceMonth  CompetitionOpenSinceYear  Promo2  \\\n",
       "0                        9.0                    2008.0       0   \n",
       "1                        9.0                    2008.0       0   \n",
       "2                        9.0                    2008.0       0   \n",
       "3                        9.0                    2008.0       0   \n",
       "4                        9.0                    2008.0       0   \n",
       "5                        9.0                    2008.0       0   \n",
       "6                        9.0                    2008.0       0   \n",
       "7                        9.0                    2008.0       0   \n",
       "8                        9.0                    2008.0       0   \n",
       "9                        9.0                    2008.0       0   \n",
       "\n",
       "   Promo2SinceWeek  Promo2SinceYear PromoInterval  \n",
       "0              0.0              0.0             0  \n",
       "1              0.0              0.0             0  \n",
       "2              0.0              0.0             0  \n",
       "3              0.0              0.0             0  \n",
       "4              0.0              0.0             0  \n",
       "5              0.0              0.0             0  \n",
       "6              0.0              0.0             0  \n",
       "7              0.0              0.0             0  \n",
       "8              0.0              0.0             0  \n",
       "9              0.0              0.0             0  "
      ]
     },
     "execution_count": 90,
     "metadata": {},
     "output_type": "execute_result"
    }
   ],
   "source": [
    "#fill missing\n",
    "# Data Leakage may happen\n",
    "print(train['Sales'].isnull().sum())\n",
    "train.fillna(value=0,inplace=True)\n",
    "store.fillna(value=0,inplace=True)\n",
    "test.fillna(value=0,inplace=True)\n",
    "\n",
    "#train.dropna(inplace=False)\n",
    "#store.dropna(inplace=False)\n",
    "#test.dropna(inplace=False)\n",
    "\n",
    "#Join tables\n",
    "train=pd.merge(train,store,on=\"Store\")\n",
    "test=pd.merge(test,store,on=\"Store\")\n",
    "train.head(10)\n"
   ]
  },
  {
   "cell_type": "markdown",
   "metadata": {},
   "source": [
    "Convert non numeric to numeric\n",
    "============="
   ]
  },
  {
   "cell_type": "code",
   "execution_count": 79,
   "metadata": {},
   "outputs": [],
   "source": [
    "def process_data(data, isTest = False):\n",
    "    # label encode some features\n",
    "    mappings = {'0':0, 'a':1, 'b':2, 'c':3, 'd':4}\n",
    "    \n",
    "    data.StoreType.replace(mappings, inplace=True)\n",
    "    data.Assortment.replace(mappings, inplace=True)\n",
    "    data.StateHoliday.replace(mappings, inplace=True)\n",
    "    data.PromoInterval.replace(mappings, inplace=True)\n",
    "    # extract some features from date column  \n",
    "    data['Date'] =pd.to_datetime(data[\"Date\"])\n",
    "    data['Month'] =data.Date.dt.month\n",
    "    data['Day'] = data.Date.dt.day\n",
    "    #data=data.drop([\"Date\"], axis=1)\n",
    "    return data\n",
    "train=process_data(train)\n",
    "\n"
   ]
  },
  {
   "cell_type": "code",
   "execution_count": 80,
   "metadata": {},
   "outputs": [
    {
     "data": {
      "text/plain": [
       "count    1.017209e+06\n",
       "mean     5.773819e+03\n",
       "std      3.849926e+03\n",
       "min      0.000000e+00\n",
       "25%      3.727000e+03\n",
       "50%      5.744000e+03\n",
       "75%      7.856000e+03\n",
       "max      4.155100e+04\n",
       "Name: Sales, dtype: float64"
      ]
     },
     "execution_count": 80,
     "metadata": {},
     "output_type": "execute_result"
    }
   ],
   "source": [
    "train[\"Sales\"].describe()"
   ]
  },
  {
   "cell_type": "code",
   "execution_count": 81,
   "metadata": {},
   "outputs": [
    {
     "data": {
      "text/plain": [
       "<matplotlib.axes._subplots.AxesSubplot at 0x7fe70048d358>"
      ]
     },
     "execution_count": 81,
     "metadata": {},
     "output_type": "execute_result"
    },
    {
     "data": {
      "image/png": "[encoded data removed]",
      "text/plain": [
       "<Figure size 432x288 with 1 Axes>"
      ]
     },
     "metadata": {
      "needs_background": "light"
     },
     "output_type": "display_data"
    }
   ],
   "source": [
    "import seaborn as sns\n",
    "#sns.lineplot(train[\"Date\"],train[\"Sales\"])\n",
    "train.groupby([\"Date\"])[\"Sales\"].sum().plot()\n",
    "#train[\"Date\",\"Sales\"].plot()\n",
    "\n"
   ]
  },
  {
   "cell_type": "code",
   "execution_count": 82,
   "metadata": {},
   "outputs": [
    {
     "data": {
      "text/plain": [
       "<matplotlib.axes._subplots.AxesSubplot at 0x7fe7ae5de320>"
      ]
     },
     "execution_count": 82,
     "metadata": {},
     "output_type": "execute_result"
    },
    {
     "data": {
      "image/png": "[encoded data removed]",
      "text/plain": [
       "<Figure size 432x288 with 1 Axes>"
      ]
     },
     "metadata": {
      "needs_background": "light"
     },
     "output_type": "display_data"
    }
   ],
   "source": [
    "train.groupby([\"Month\"])[\"Sales\"].sum().plot()"
   ]
  },
  {
   "cell_type": "code",
   "execution_count": 83,
   "metadata": {},
   "outputs": [
    {
     "data": {
      "text/plain": [
       "<matplotlib.axes._subplots.AxesSubplot at 0x7fe70c181ac8>"
      ]
     },
     "execution_count": 83,
     "metadata": {},
     "output_type": "execute_result"
    },
    {
     "data": {
      "image/png": "[encoded data removed]",
      "text/plain": [
       "<Figure size 432x288 with 1 Axes>"
      ]
     },
     "metadata": {
      "needs_background": "light"
     },
     "output_type": "display_data"
    }
   ],
   "source": [
    "#data is not stationary\n",
    "train.groupby([\"DayOfWeek\"])[\"Sales\"].sum().plot()"
   ]
  },
  {
   "cell_type": "code",
   "execution_count": 61,
   "metadata": {},
   "outputs": [
    {
     "data": {
      "text/plain": [
       "<matplotlib.axes._subplots.AxesSubplot at 0x7fe70043e5c0>"
      ]
     },
     "execution_count": 61,
     "metadata": {},
     "output_type": "execute_result"
    },
    {
     "data": {
      "image/png": "[encoded data removed]",
      "text/plain": [
       "<Figure size 432x288 with 1 Axes>"
      ]
     },
     "metadata": {
      "needs_background": "light"
     },
     "output_type": "display_data"
    }
   ],
   "source": [
    "train.groupby([\"Store\"])[\"Sales\"].sum().plot()"
   ]
  },
  {
   "cell_type": "code",
   "execution_count": 88,
   "metadata": {},
   "outputs": [
    {
     "name": "stdout",
     "output_type": "stream",
     "text": [
      "4373.5\n"
     ]
    }
   ],
   "source": [
    "train.groupby([\"Store\"])[\"Sales\"].median().reset_index(name=\"median\")#4373.5\n",
    "store1sa=train[train[\"Store\"]==1]\n",
    "print(store1sa[\"Sales\"].median())"
   ]
  },
  {
   "cell_type": "markdown",
   "metadata": {},
   "source": [
    "Answer question one\n",
    "===================\n",
    " Is there any significant difference in sales for different Stores ?\n",
    " Null Hypothesis, Ho=there is no significant difference "
   ]
  },
  {
   "cell_type": "code",
   "execution_count": 10,
   "metadata": {},
   "outputs": [
    {
     "name": "stdout",
     "output_type": "stream",
     "text": [
      "[502, 372]\n"
     ]
    }
   ],
   "source": [
    "\n",
    "import random\n",
    "import numpy as np\n",
    "stores_sales_n=train.groupby([\"Store\"]).size().reset_index(name='counts')\n",
    "stores_sales_mean=train.groupby([\"Store\"])[\"Sales\"].mean().reset_index(name='mean')\n",
    "stores_sales_sd=train.groupby([\"Store\"])[\"Sales\"].std().reset_index(name='std')\n",
    "\n",
    "\n"
   ]
  },
  {
   "cell_type": "markdown",
   "metadata": {},
   "source": [
    "Verify whether Data following central limit theorem\n",
    "==========="
   ]
  },
  {
   "cell_type": "code",
   "execution_count": 11,
   "metadata": {},
   "outputs": [
    {
     "data": {
      "text/plain": [
       "<matplotlib.axes._subplots.AxesSubplot at 0x7f92ebfc9f98>"
      ]
     },
     "execution_count": 11,
     "metadata": {},
     "output_type": "execute_result"
    },
    {
     "data": {
      "image/png": "[encoded data removed]",
      "text/plain": [
       "<Figure size 432x288 with 1 Axes>"
      ]
     },
     "metadata": {
      "needs_background": "light"
     },
     "output_type": "display_data"
    }
   ],
   "source": [
    "stores_sales_mean[\"mean\"].hist()"
   ]
  },
  {
   "cell_type": "markdown",
   "metadata": {},
   "source": [
    "Perform T-test\n",
    "==============="
   ]
  },
  {
   "cell_type": "code",
   "execution_count": 12,
   "metadata": {},
   "outputs": [
    {
     "name": "stdout",
     "output_type": "stream",
     "text": [
      "     Store  counts\n",
      "502    503     942\n",
      "372    373     942\n",
      "     Store         mean\n",
      "502    503  5546.279193\n",
      "372    373  3736.943737\n",
      "     Store          std\n",
      "502    503  3103.253521\n",
      "372    373  1976.742718\n"
     ]
    }
   ],
   "source": [
    "#https://www.graphpad.com/quickcalcs/ttest1.cfm\n",
    "#http://vassarstats.net/anova1u.html\n",
    "random_store=random.choices(range(len(stores_sales_n)), k=2)\n",
    "print(random_store)\n",
    "print (stores_sales_n.iloc[random_store])\n",
    "print (stores_sales_mean.iloc[random_store])\n",
    "print (stores_sales_sd.iloc[random_store])"
   ]
  },
  {
   "cell_type": "markdown",
   "metadata": {},
   "source": [
    "Perform ANOVA\n",
    "============"
   ]
  },
  {
   "cell_type": "code",
   "execution_count": 13,
   "metadata": {},
   "outputs": [
    {
     "name": "stdout",
     "output_type": "stream",
     "text": [
      " 6268\n",
      " 6064\n",
      " 4321\n",
      " 5019\n",
      " 7023\n",
      "    0\n",
      " 3755\n",
      " 3866\n",
      " 4252\n",
      " 2962\n",
      "===\n",
      " 8711\n",
      " 5449\n",
      " 4890\n",
      " 5605\n",
      " 6644\n",
      "    0\n",
      " 2899\n",
      " 4727\n",
      " 3275\n",
      " 3533\n",
      "===\n",
      " 7839\n",
      " 6442\n",
      " 5276\n",
      " 5984\n",
      " 7291\n",
      "    0\n",
      " 5113\n",
      " 4903\n",
      " 5525\n",
      " 4825\n"
     ]
    }
   ],
   "source": [
    "random_store=random.choices(stores_sales_n[\"Store\"].unique(), k=3)\n",
    "nrows=10\n",
    "store_1_sales=train[train[\"Store\"]==random_store[0]][\"Sales\"]\n",
    "store_1_sales=store_1_sales[0:nrows]\n",
    "store_2_sales=train[train[\"Store\"]==random_store[1]][\"Sales\"]\n",
    "store_2_sales=store_2_sales[0:nrows]\n",
    "store_3_sales=train[train[\"Store\"]==random_store[2]][\"Sales\"]\n",
    "store_3_sales=store_3_sales[0:nrows]\n",
    "print(store_1_sales.to_string(index=False, header=False))\n",
    "print (\"===\")\n",
    "print(store_2_sales.to_string(index=False, header=False))\n",
    "print (\"===\")\n",
    "print(store_3_sales.to_string(index=False, header=False))\n"
   ]
  },
  {
   "cell_type": "code",
   "execution_count": 14,
   "metadata": {},
   "outputs": [
    {
     "data": {
      "text/plain": [
       "<matplotlib.axes._subplots.AxesSubplot at 0x7f92ebf45b00>"
      ]
     },
     "execution_count": 14,
     "metadata": {},
     "output_type": "execute_result"
    },
    {
     "data": {
      "image/png": "[encoded data removed]",
      "text/plain": [
       "<Figure size 432x288 with 1 Axes>"
      ]
     },
     "metadata": {
      "needs_background": "light"
     },
     "output_type": "display_data"
    }
   ],
   "source": [
    "stores_sales_mean.plot.bar(x='Store', y='mean', rot=0)"
   ]
  },
  {
   "cell_type": "code",
   "execution_count": null,
   "metadata": {},
   "outputs": [],
   "source": [
    "from statsmodels.tsa.stattools import adfuller#Dickey-Fuller test\n",
    "#Ho: It is stationary--There no significat difference in mean, var\n",
    "#H1: It is Non stationary\n",
    "\n",
    "def adfuller_test(sales):\n",
    "    result=adfuller(sales)\n",
    "    labels = ['ADF Test Statistic','p-value','#Lags Used','Number of Observations Used']\n",
    "    for value,label in zip(result,labels):\n",
    "        print(label+' : '+str(value) )\n",
    "    if result[1] <= 0.05:\n",
    "        print(\"Data is not stationary\")\n",
    "    else:\n",
    "        print(\"There is strong evidence data is stationary\")\n",
    "        \n",
    "adfuller_test(train[\"Sales\"])       \n"
   ]
  },
  {
   "cell_type": "code",
   "execution_count": 71,
   "metadata": {},
   "outputs": [],
   "source": [
    "Y=train[\"Sales\"]\n",
    "train.drop([\"Date\"],axis=1,inplace=True)\n",
    "#train.drop([\"Sales\"],axis=1,inplace=True)\n",
    "train.drop([\"PromoInterval\"],axis=1,inplace=True)\n",
    "#train.drop([\"Customers\"],axis=1,inplace=True)\n",
    "train.drop(['Assortment'],axis=1,inplace=True)\n",
    "train.drop([\"CompetitionOpenSinceMonth\"],axis=1,inplace=True)\n",
    "train.drop([\"CompetitionOpenSinceYear\"],axis=1,inplace=True)\n",
    "train.drop([\"Promo2SinceWeek\"],axis=1,inplace=True)\n",
    "train.drop([\"Promo2SinceYear\"],axis=1,inplace=True)\n",
    "train.drop([\"Promo2\"],axis=1,inplace=True)\n"
   ]
  },
  {
   "cell_type": "code",
   "execution_count": 45,
   "metadata": {},
   "outputs": [
    {
     "data": {
      "text/html": [
       "<div>\n",
       "<style scoped>\n",
       "    .dataframe tbody tr th:only-of-type {\n",
       "        vertical-align: middle;\n",
       "    }\n",
       "\n",
       "    .dataframe tbody tr th {\n",
       "        vertical-align: top;\n",
       "    }\n",
       "\n",
       "    .dataframe thead th {\n",
       "        text-align: right;\n",
       "    }\n",
       "</style>\n",
       "<table border=\"1\" class=\"dataframe\">\n",
       "  <thead>\n",
       "    <tr style=\"text-align: right;\">\n",
       "      <th></th>\n",
       "      <th>Store</th>\n",
       "      <th>DayOfWeek</th>\n",
       "      <th>Sales</th>\n",
       "      <th>Customers</th>\n",
       "      <th>Open</th>\n",
       "      <th>Promo</th>\n",
       "      <th>StateHoliday</th>\n",
       "      <th>SchoolHoliday</th>\n",
       "      <th>StoreType</th>\n",
       "      <th>CompetitionDistance</th>\n",
       "      <th>Month</th>\n",
       "      <th>Day</th>\n",
       "    </tr>\n",
       "  </thead>\n",
       "  <tbody>\n",
       "    <tr>\n",
       "      <th>0</th>\n",
       "      <td>1</td>\n",
       "      <td>5</td>\n",
       "      <td>5263</td>\n",
       "      <td>555</td>\n",
       "      <td>1</td>\n",
       "      <td>1</td>\n",
       "      <td>0</td>\n",
       "      <td>1</td>\n",
       "      <td>3</td>\n",
       "      <td>1270.0</td>\n",
       "      <td>7</td>\n",
       "      <td>31</td>\n",
       "    </tr>\n",
       "    <tr>\n",
       "      <th>1</th>\n",
       "      <td>1</td>\n",
       "      <td>4</td>\n",
       "      <td>5020</td>\n",
       "      <td>546</td>\n",
       "      <td>1</td>\n",
       "      <td>1</td>\n",
       "      <td>0</td>\n",
       "      <td>1</td>\n",
       "      <td>3</td>\n",
       "      <td>1270.0</td>\n",
       "      <td>7</td>\n",
       "      <td>30</td>\n",
       "    </tr>\n",
       "    <tr>\n",
       "      <th>2</th>\n",
       "      <td>1</td>\n",
       "      <td>3</td>\n",
       "      <td>4782</td>\n",
       "      <td>523</td>\n",
       "      <td>1</td>\n",
       "      <td>1</td>\n",
       "      <td>0</td>\n",
       "      <td>1</td>\n",
       "      <td>3</td>\n",
       "      <td>1270.0</td>\n",
       "      <td>7</td>\n",
       "      <td>29</td>\n",
       "    </tr>\n",
       "    <tr>\n",
       "      <th>3</th>\n",
       "      <td>1</td>\n",
       "      <td>2</td>\n",
       "      <td>5011</td>\n",
       "      <td>560</td>\n",
       "      <td>1</td>\n",
       "      <td>1</td>\n",
       "      <td>0</td>\n",
       "      <td>1</td>\n",
       "      <td>3</td>\n",
       "      <td>1270.0</td>\n",
       "      <td>7</td>\n",
       "      <td>28</td>\n",
       "    </tr>\n",
       "    <tr>\n",
       "      <th>4</th>\n",
       "      <td>1</td>\n",
       "      <td>1</td>\n",
       "      <td>6102</td>\n",
       "      <td>612</td>\n",
       "      <td>1</td>\n",
       "      <td>1</td>\n",
       "      <td>0</td>\n",
       "      <td>1</td>\n",
       "      <td>3</td>\n",
       "      <td>1270.0</td>\n",
       "      <td>7</td>\n",
       "      <td>27</td>\n",
       "    </tr>\n",
       "  </tbody>\n",
       "</table>\n",
       "</div>"
      ],
      "text/plain": [
       "   Store  DayOfWeek  Sales  Customers  Open  Promo StateHoliday  \\\n",
       "0      1          5   5263        555     1      1            0   \n",
       "1      1          4   5020        546     1      1            0   \n",
       "2      1          3   4782        523     1      1            0   \n",
       "3      1          2   5011        560     1      1            0   \n",
       "4      1          1   6102        612     1      1            0   \n",
       "\n",
       "   SchoolHoliday  StoreType  CompetitionDistance  Month  Day  \n",
       "0              1          3               1270.0      7   31  \n",
       "1              1          3               1270.0      7   30  \n",
       "2              1          3               1270.0      7   29  \n",
       "3              1          3               1270.0      7   28  \n",
       "4              1          3               1270.0      7   27  "
      ]
     },
     "execution_count": 45,
     "metadata": {},
     "output_type": "execute_result"
    }
   ],
   "source": [
    "train.head(5)"
   ]
  },
  {
   "cell_type": "code",
   "execution_count": 72,
   "metadata": {},
   "outputs": [
    {
     "name": "stdout",
     "output_type": "stream",
     "text": [
      "(813768, 11) (813768,)\n"
     ]
    }
   ],
   "source": [
    "from sklearn.preprocessing import StandardScaler\n",
    "from sklearn.model_selection import train_test_split\n",
    "#print(X.info())\n",
    "#print(X.describe())\n",
    "\n",
    "#normalize_feature=train[\"Customers\"]\n",
    "#normalize_feature=pd.concat([Y,normalize_feature], axis=1)\n",
    "#normalize_feature=np.array(normalize_feature)\n",
    "#print(normalize_feature.head())\n",
    "#standardScaler=StandardScaler()\n",
    "#standardScaler.fit(normalize_feature)\n",
    "#normalized_samples=standardScaler.transform(normalize_feature)\n",
    "#train[\"Customers\"]=[\"Customers\"]\n",
    "#x_train, x_test, y_train, y_test = train_test_split(X, Y, test_size=0.33, random_state=42)\n",
    "\n",
    "X=np.array(train).astype(np.float)\n",
    "n_samples_split=int(len(X)*0.2)\n",
    "x_train=X[:-n_samples_split]\n",
    "y_train=Y[:-n_samples_split]\n",
    "x_test=X[-n_samples_split:]\n",
    "y_test=Y[-n_samples_split:]\n",
    "print(x_train.shape, y_train.shape)\n",
    "\n",
    "\n",
    "    "
   ]
  },
  {
   "cell_type": "markdown",
   "metadata": {},
   "source": [
    "Deep Learning\n",
    "============"
   ]
  },
  {
   "cell_type": "code",
   "execution_count": 47,
   "metadata": {},
   "outputs": [],
   "source": [
    "#break the time seriese based on window\n",
    "def create_dataset(X, y, time_steps=1):\n",
    "    Xs, ys = [], []\n",
    "    for i in range(len(X) - time_steps):\n",
    "        v = X[i:(i + time_steps)]\n",
    "        Xs.append(v)\n",
    "        ys.append(y[i + time_steps])\n",
    "    return np.array(Xs), np.array(ys)"
   ]
  },
  {
   "cell_type": "code",
   "execution_count": 48,
   "metadata": {},
   "outputs": [
    {
     "name": "stdout",
     "output_type": "stream",
     "text": [
      "(813768, 12) (813768,)\n",
      "(813758, 10, 12) (813758,)\n",
      "[[1.000e+00 5.000e+00 5.263e+03 5.550e+02 1.000e+00 1.000e+00 0.000e+00\n",
      "  1.000e+00 3.000e+00 1.270e+03 7.000e+00 3.100e+01]\n",
      " [1.000e+00 4.000e+00 5.020e+03 5.460e+02 1.000e+00 1.000e+00 0.000e+00\n",
      "  1.000e+00 3.000e+00 1.270e+03 7.000e+00 3.000e+01]\n",
      " [1.000e+00 3.000e+00 4.782e+03 5.230e+02 1.000e+00 1.000e+00 0.000e+00\n",
      "  1.000e+00 3.000e+00 1.270e+03 7.000e+00 2.900e+01]\n",
      " [1.000e+00 2.000e+00 5.011e+03 5.600e+02 1.000e+00 1.000e+00 0.000e+00\n",
      "  1.000e+00 3.000e+00 1.270e+03 7.000e+00 2.800e+01]\n",
      " [1.000e+00 1.000e+00 6.102e+03 6.120e+02 1.000e+00 1.000e+00 0.000e+00\n",
      "  1.000e+00 3.000e+00 1.270e+03 7.000e+00 2.700e+01]\n",
      " [1.000e+00 7.000e+00 0.000e+00 0.000e+00 0.000e+00 0.000e+00 0.000e+00\n",
      "  0.000e+00 3.000e+00 1.270e+03 7.000e+00 2.600e+01]\n",
      " [1.000e+00 6.000e+00 4.364e+03 5.000e+02 1.000e+00 0.000e+00 0.000e+00\n",
      "  0.000e+00 3.000e+00 1.270e+03 7.000e+00 2.500e+01]\n",
      " [1.000e+00 5.000e+00 3.706e+03 4.590e+02 1.000e+00 0.000e+00 0.000e+00\n",
      "  0.000e+00 3.000e+00 1.270e+03 7.000e+00 2.400e+01]\n",
      " [1.000e+00 4.000e+00 3.769e+03 5.030e+02 1.000e+00 0.000e+00 0.000e+00\n",
      "  0.000e+00 3.000e+00 1.270e+03 7.000e+00 2.300e+01]\n",
      " [1.000e+00 3.000e+00 3.464e+03 4.630e+02 1.000e+00 0.000e+00 0.000e+00\n",
      "  0.000e+00 3.000e+00 1.270e+03 7.000e+00 2.200e+01]]\n",
      "3558.0\n"
     ]
    }
   ],
   "source": [
    "import numpy as np\n",
    "time_steps=10\n",
    "print(x_train.shape,y_train.shape)\n",
    "x_train=np.array(x_train.astype(np.float))\n",
    "x_test=np.array(x_test.astype(np.float))\n",
    "\n",
    "y_train=np.array(y_train.astype(np.float))\n",
    "y_test=np.array(y_test.astype(np.float))\n",
    "# reshape to [samples, time_steps, n_features]\n",
    "X_train, Y_train = create_dataset(x_train,y_train, time_steps)\n",
    "X_test, Y_test = create_dataset(x_test, y_test, time_steps)\n",
    "\n",
    "print(X_train.shape, Y_train.shape)\n",
    "print(X_train[0])\n",
    "print(Y_train[0])"
   ]
  },
  {
   "cell_type": "code",
   "execution_count": 49,
   "metadata": {
    "collapsed": true
   },
   "outputs": [
    {
     "name": "stdout",
     "output_type": "stream",
     "text": [
      "WARNING:tensorflow:Layer lstm_6 will not use cuDNN kernel since it doesn't meet the cuDNN kernel criteria. It will use generic GPU kernel as fallback when running on GPU\n"
     ]
    }
   ],
   "source": [
    "import tensorflow as tf\n",
    "from tensorflow.keras import Sequential\n",
    "from tensorflow.keras.layers import LSTM, Dense, Dropout\n",
    "import tensorflow.keras as keras\n",
    "\n",
    "#cell, input gate, an output gate and a forget gate\n",
    "model=Sequential()\n",
    "model.add(LSTM(units=128, input_shape=(X_train.shape[1],X_train.shape[2]), return_sequences=True)) ##stake of LSTM is used \n",
    "model.add(LSTM(units=64, activation='relu', return_sequences=False))\n",
    "model.add(Dropout(0.3))\n",
    "model.add(Dense(units=1))\n",
    "model.compile(\n",
    "  loss='mean_squared_error',\n",
    "  optimizer=keras.optimizers.Adam(0.001)\n",
    ")\n"
   ]
  },
  {
   "cell_type": "code",
   "execution_count": 50,
   "metadata": {},
   "outputs": [
    {
     "name": "stdout",
     "output_type": "stream",
     "text": [
      "Model: \"sequential_3\"\n",
      "_________________________________________________________________\n",
      "Layer (type)                 Output Shape              Param #   \n",
      "=================================================================\n",
      "lstm_5 (LSTM)                (None, 10, 128)           72192     \n",
      "_________________________________________________________________\n",
      "lstm_6 (LSTM)                (None, 64)                49408     \n",
      "_________________________________________________________________\n",
      "dropout_2 (Dropout)          (None, 64)                0         \n",
      "_________________________________________________________________\n",
      "dense_2 (Dense)              (None, 1)                 65        \n",
      "=================================================================\n",
      "Total params: 121,665\n",
      "Trainable params: 121,665\n",
      "Non-trainable params: 0\n",
      "_________________________________________________________________\n"
     ]
    }
   ],
   "source": [
    "model.summary()"
   ]
  },
  {
   "cell_type": "code",
   "execution_count": 51,
   "metadata": {},
   "outputs": [
    {
     "name": "stdout",
     "output_type": "stream",
     "text": [
      "Epoch 1/50\n",
      "358/358 [==============================] - 12s 34ms/step - loss: 18205660.0000 - val_loss: 14620394.0000\n",
      "Epoch 2/50\n",
      "358/358 [==============================] - 12s 33ms/step - loss: 14827699.0000 - val_loss: 13554746.0000\n",
      "Epoch 3/50\n",
      "358/358 [==============================] - 12s 33ms/step - loss: 14619934.0000 - val_loss: 12211666.0000\n",
      "Epoch 4/50\n",
      "358/358 [==============================] - 12s 33ms/step - loss: 12916920.0000 - val_loss: 11761150.0000\n",
      "Epoch 5/50\n",
      "358/358 [==============================] - 12s 33ms/step - loss: 11633499.0000 - val_loss: 9950099.0000\n",
      "Epoch 6/50\n",
      "358/358 [==============================] - 12s 33ms/step - loss: 10452905.0000 - val_loss: 8322243.5000\n",
      "Epoch 7/50\n",
      "358/358 [==============================] - 12s 34ms/step - loss: 10127087.0000 - val_loss: 8297357.0000\n",
      "Epoch 8/50\n",
      "358/358 [==============================] - 12s 33ms/step - loss: 10447831.0000 - val_loss: 9105411.0000\n",
      "Epoch 9/50\n",
      "358/358 [==============================] - 12s 33ms/step - loss: 9857143.0000 - val_loss: 8791310.0000\n",
      "Epoch 10/50\n",
      "358/358 [==============================] - 12s 33ms/step - loss: 9783048.0000 - val_loss: 8032036.0000\n",
      "Epoch 11/50\n",
      "358/358 [==============================] - 12s 33ms/step - loss: 9620518.0000 - val_loss: 7682916.0000\n",
      "Epoch 12/50\n",
      "358/358 [==============================] - 12s 33ms/step - loss: 9355572.0000 - val_loss: 7413635.0000\n",
      "Epoch 13/50\n",
      "358/358 [==============================] - 12s 33ms/step - loss: 9070941.0000 - val_loss: 7150436.0000\n",
      "Epoch 14/50\n",
      "358/358 [==============================] - 12s 33ms/step - loss: 9190368.0000 - val_loss: 6677069.5000\n",
      "Epoch 15/50\n",
      "358/358 [==============================] - 12s 34ms/step - loss: 8759520.0000 - val_loss: 6719249.5000\n",
      "Epoch 16/50\n",
      "358/358 [==============================] - 12s 33ms/step - loss: 8734894.0000 - val_loss: 6526865.5000\n",
      "Epoch 17/50\n",
      "358/358 [==============================] - 12s 33ms/step - loss: 8751382.0000 - val_loss: 6778393.0000\n",
      "Epoch 18/50\n",
      "358/358 [==============================] - 12s 33ms/step - loss: 8735536.0000 - val_loss: 6667360.0000\n",
      "Epoch 19/50\n",
      "358/358 [==============================] - 12s 33ms/step - loss: 8548720.0000 - val_loss: 6519549.5000\n",
      "Epoch 20/50\n",
      "358/358 [==============================] - 12s 34ms/step - loss: 8498981.0000 - val_loss: 6350598.0000\n",
      "Epoch 21/50\n",
      "358/358 [==============================] - 12s 33ms/step - loss: 8468154.0000 - val_loss: 6316667.5000\n",
      "Epoch 22/50\n",
      "358/358 [==============================] - 12s 33ms/step - loss: 8453821.0000 - val_loss: 6358164.0000\n",
      "Epoch 23/50\n",
      "358/358 [==============================] - 12s 33ms/step - loss: 8536465.0000 - val_loss: 6481595.0000\n",
      "Epoch 24/50\n",
      "358/358 [==============================] - 12s 33ms/step - loss: 8448175.0000 - val_loss: 6478242.0000\n",
      "Epoch 25/50\n",
      "358/358 [==============================] - 12s 33ms/step - loss: 8486214.0000 - val_loss: 6338642.5000\n",
      "Epoch 26/50\n",
      "358/358 [==============================] - 12s 33ms/step - loss: 8738755.0000 - val_loss: 6415610.0000\n",
      "Epoch 27/50\n",
      "358/358 [==============================] - 12s 33ms/step - loss: 8424454.0000 - val_loss: 6372545.5000\n",
      "Epoch 28/50\n",
      "358/358 [==============================] - 12s 33ms/step - loss: 8581362.0000 - val_loss: 6333267.0000\n",
      "Epoch 29/50\n",
      "358/358 [==============================] - 12s 33ms/step - loss: 8430896.0000 - val_loss: 6305951.5000\n",
      "Epoch 30/50\n",
      "358/358 [==============================] - 12s 33ms/step - loss: 8582258.0000 - val_loss: 6260349.5000\n",
      "Epoch 31/50\n",
      "358/358 [==============================] - 12s 33ms/step - loss: 8401732.0000 - val_loss: 6300356.0000\n",
      "Epoch 32/50\n",
      "358/358 [==============================] - 12s 33ms/step - loss: 8400955.0000 - val_loss: 6195204.0000\n",
      "Epoch 33/50\n",
      "358/358 [==============================] - 12s 33ms/step - loss: 8466629.0000 - val_loss: 6400533.0000\n",
      "Epoch 34/50\n",
      "358/358 [==============================] - 12s 33ms/step - loss: 8428018.0000 - val_loss: 6317547.5000\n",
      "Epoch 35/50\n",
      "358/358 [==============================] - 12s 33ms/step - loss: 8471180.0000 - val_loss: 6202718.0000\n",
      "Epoch 36/50\n",
      "358/358 [==============================] - 12s 33ms/step - loss: 8394165.0000 - val_loss: 6386337.5000\n",
      "Epoch 37/50\n",
      "358/358 [==============================] - 12s 33ms/step - loss: 8318073.5000 - val_loss: 6318606.5000\n",
      "Epoch 38/50\n",
      "358/358 [==============================] - 12s 33ms/step - loss: 8322283.0000 - val_loss: 6783106.5000\n",
      "Epoch 39/50\n",
      "358/358 [==============================] - 12s 33ms/step - loss: 8175081.5000 - val_loss: 6129942.0000\n",
      "Epoch 40/50\n",
      "358/358 [==============================] - 12s 33ms/step - loss: 8318823.0000 - val_loss: 6186070.5000\n",
      "Epoch 41/50\n",
      "358/358 [==============================] - 12s 33ms/step - loss: 8357556.0000 - val_loss: 6089911.5000\n",
      "Epoch 42/50\n",
      "358/358 [==============================] - 12s 34ms/step - loss: 8165249.5000 - val_loss: 6045085.0000\n",
      "Epoch 43/50\n",
      "358/358 [==============================] - 12s 33ms/step - loss: 8334448.5000 - val_loss: 6161787.0000\n",
      "Epoch 44/50\n",
      "358/358 [==============================] - 12s 33ms/step - loss: 8300417.0000 - val_loss: 6341959.5000\n",
      "Epoch 45/50\n",
      "358/358 [==============================] - 12s 33ms/step - loss: 8466896.0000 - val_loss: 6279995.5000\n",
      "Epoch 46/50\n",
      "358/358 [==============================] - 12s 33ms/step - loss: 8270950.5000 - val_loss: 6120157.5000\n",
      "Epoch 47/50\n",
      "358/358 [==============================] - 12s 34ms/step - loss: 8362428.5000 - val_loss: 6226417.5000\n",
      "Epoch 48/50\n",
      "358/358 [==============================] - 12s 33ms/step - loss: 8388663.0000 - val_loss: 6359949.0000\n",
      "Epoch 49/50\n",
      "358/358 [==============================] - 12s 33ms/step - loss: 8333354.5000 - val_loss: 6038977.5000\n",
      "Epoch 50/50\n",
      "358/358 [==============================] - 12s 33ms/step - loss: 8328203.0000 - val_loss: 6218937.0000\n"
     ]
    }
   ],
   "source": [
    "history = model.fit(\n",
    "    X_train, Y_train,\n",
    "    epochs=50,\n",
    "    batch_size=2048,\n",
    "    validation_split=0.1,\n",
    "    verbose=1,\n",
    "    shuffle=False\n",
    ")"
   ]
  },
  {
   "cell_type": "code",
   "execution_count": 52,
   "metadata": {},
   "outputs": [
    {
     "data": {
      "image/png": "[encoded data removed]",
      "text/plain": [
       "<Figure size 432x288 with 1 Axes>"
      ]
     },
     "metadata": {
      "needs_background": "light"
     },
     "output_type": "display_data"
    }
   ],
   "source": [
    "import matplotlib.pyplot as plt\n",
    "plt.plot(history.history['loss'])\n",
    "plt.plot(history.history['val_loss'])\n",
    "plt.title('model loss')\n",
    "plt.ylabel('loss')\n",
    "plt.xlabel('epoch')\n",
    "plt.legend(['train', 'val'], loc='upper left')\n",
    "plt.show()"
   ]
  },
  {
   "cell_type": "code",
   "execution_count": 53,
   "metadata": {},
   "outputs": [
    {
     "data": {
      "text/plain": [
       "<matplotlib.collections.PathCollection at 0x7fe7003ee4e0>"
      ]
     },
     "execution_count": 53,
     "metadata": {},
     "output_type": "execute_result"
    },
    {
     "data": {
      "image/png": "[encoded data removed]",
      "text/plain": [
       "<Figure size 432x288 with 1 Axes>"
      ]
     },
     "metadata": {
      "needs_background": "light"
     },
     "output_type": "display_data"
    }
   ],
   "source": [
    "#predict for next 10 days\n",
    "from sklearn.metrics import accuracy_score \n",
    "from sklearn.metrics import mean_squared_error\n",
    "import seaborn as sns\n",
    "import matplotlib.pyplot as plt\n",
    "\n",
    "y_pred=model.predict(X_train[-10:])\n",
    "#print(mean_squared_error(y_test,y_pred))\n",
    "x=range(10)\n",
    "plt.scatter(x,y_pred)"
   ]
  },
  {
   "cell_type": "markdown",
   "metadata": {},
   "source": [
    "Regression model\n",
    "============"
   ]
  },
  {
   "cell_type": "code",
   "execution_count": 7,
   "metadata": {},
   "outputs": [
    {
     "name": "stdout",
     "output_type": "stream",
     "text": [
      "                                 OLS Regression Results                                \n",
      "=======================================================================================\n",
      "Dep. Variable:                  Sales   R-squared (uncentered):                   0.958\n",
      "Model:                            OLS   Adj. R-squared (uncentered):              0.958\n",
      "Method:                 Least Squares   F-statistic:                          1.703e+06\n",
      "Date:                Wed, 16 Jun 2021   Prob (F-statistic):                        0.00\n",
      "Time:                        17:22:24   Log-Likelihood:                     -7.0624e+06\n",
      "No. Observations:              813768   AIC:                                  1.412e+07\n",
      "Df Residuals:                  813757   BIC:                                  1.413e+07\n",
      "Df Model:                          11                                                  \n",
      "Covariance Type:            nonrobust                                                  \n",
      "==============================================================================\n",
      "                 coef    std err          t      P>|t|      [0.025      0.975]\n",
      "------------------------------------------------------------------------------\n",
      "x1            -0.2424      0.006    -41.104      0.000      -0.254      -0.231\n",
      "x2           -95.2781      0.714   -133.496      0.000     -96.677     -93.879\n",
      "x3             6.3079      0.004   1430.850      0.000       6.299       6.317\n",
      "x4          1257.4699      5.252    239.414      0.000    1247.176    1267.764\n",
      "x5          1217.5707      3.524    345.480      0.000    1210.663    1224.478\n",
      "x6          -448.6788      5.980    -75.029      0.000    -460.399    -436.958\n",
      "x7            34.4041      4.305      7.992      0.000      25.967      42.841\n",
      "x8           252.6740      1.124    224.703      0.000     250.470     254.878\n",
      "x9             0.0223      0.000    112.730      0.000       0.022       0.023\n",
      "x10           21.1202      0.460     45.896      0.000      20.218      22.022\n",
      "x11           -0.4971      0.174     -2.864      0.004      -0.837      -0.157\n",
      "==============================================================================\n",
      "Omnibus:                   154941.108   Durbin-Watson:                   0.654\n",
      "Prob(Omnibus):                  0.000   Jarque-Bera (JB):          4480331.906\n",
      "Skew:                           0.141   Prob(JB):                         0.00\n",
      "Kurtosis:                      14.492   Cond. No.                     4.07e+04\n",
      "==============================================================================\n",
      "\n",
      "Warnings:\n",
      "[1] Standard Errors assume that the covariance matrix of the errors is correctly specified.\n",
      "[2] The condition number is large, 4.07e+04. This might indicate that there are\n",
      "strong multicollinearity or other numerical problems.\n"
     ]
    }
   ],
   "source": [
    "from sklearn.ensemble import RandomForestRegressor\n",
    "import statsmodels.api as sm\n",
    "\n",
    "model=sm.OLS(y_train,x_train)\n",
    "results = model.fit()\n",
    "print(results.summary())\n"
   ]
  },
  {
   "cell_type": "code",
   "execution_count": 73,
   "metadata": {},
   "outputs": [
    {
     "data": {
      "text/plain": [
       "RandomForestRegressor(n_estimators=10)"
      ]
     },
     "execution_count": 73,
     "metadata": {},
     "output_type": "execute_result"
    }
   ],
   "source": [
    "\n",
    "from sklearn.ensemble import RandomForestRegressor\n",
    "import statsmodels.api as sm\n",
    "randomForestRegressor=RandomForestRegressor(n_estimators=10)\n",
    "randomForestRegressor.fit(x_train,y_train)\n",
    "\n"
   ]
  },
  {
   "cell_type": "code",
   "execution_count": 74,
   "metadata": {},
   "outputs": [
    {
     "name": "stdout",
     "output_type": "stream",
     "text": [
      "[2.81189172e-02 6.46878677e-03 8.63417061e-01 0.00000000e+00\n",
      " 1.79600384e-02 1.46864083e-04 5.37351458e-04 3.22098840e-02\n",
      " 4.24910563e-02 4.24770390e-03 4.40233695e-03]\n"
     ]
    },
    {
     "data": {
      "text/plain": [
       "Text(0.5, 0, 'Feature Importance')"
      ]
     },
     "execution_count": 74,
     "metadata": {},
     "output_type": "execute_result"
    },
    {
     "data": {
      "image/png": "[encoded data removed]",
      "text/plain": [
       "<Figure size 432x288 with 1 Axes>"
      ]
     },
     "metadata": {
      "needs_background": "light"
     },
     "output_type": "display_data"
    }
   ],
   "source": [
    "from sklearn.metrics import accuracy_score \n",
    "from sklearn.metrics import mean_squared_error\n",
    "from matplotlib import pyplot as plt\n",
    "from  sklearn.inspection import permutation_importance\n",
    "\n",
    "print(randomForestRegressor.feature_importances_)\n",
    "\n",
    "plt.barh(train.columns, randomForestRegressor.feature_importances_)\n",
    "plt.xlabel(\"Feature Importance\")\n"
   ]
  },
  {
   "cell_type": "code",
   "execution_count": 56,
   "metadata": {},
   "outputs": [
    {
     "name": "stdout",
     "output_type": "stream",
     "text": [
      "68.32972675124493\n"
     ]
    },
    {
     "data": {
      "image/png": "[encoded data removed]",
      "text/plain": [
       "<Figure size 432x288 with 1 Axes>"
      ]
     },
     "metadata": {
      "needs_background": "light"
     },
     "output_type": "display_data"
    }
   ],
   "source": [
    "perm_importance = permutation_importance(randomForestRegressor, x_test, y_test)\n",
    "sorted_idx = perm_importance.importances_mean.argsort()\n",
    "plt.barh(train.columns[sorted_idx], perm_importance.importances_mean[sorted_idx])\n",
    "plt.xlabel(\"Permutation Importance\")\n",
    "\n",
    "\n",
    "y_pred=randomForestRegressor.predict(x_test)\n",
    "print(mean_squared_error(y_test,y_pred))"
   ]
  },
  {
   "cell_type": "code",
   "execution_count": 35,
   "metadata": {},
   "outputs": [
    {
     "data": {
      "text/plain": [
       "<matplotlib.collections.PathCollection at 0x7fe6b058a128>"
      ]
     },
     "execution_count": 35,
     "metadata": {},
     "output_type": "execute_result"
    },
    {
     "data": {
      "image/png": "[encoded data removed]",
      "text/plain": [
       "<Figure size 432x288 with 1 Axes>"
      ]
     },
     "metadata": {
      "needs_background": "light"
     },
     "output_type": "display_data"
    }
   ],
   "source": [
    "#predict for next 10 days\n",
    "from sklearn.metrics import accuracy_score \n",
    "from sklearn.metrics import mean_squared_error\n",
    "import seaborn as sns\n",
    "import matplotlib.pyplot as plt\n",
    "\n",
    "y_pred=randomForestRegressor.predict(x_train[-10:])\n",
    "#print(mean_squared_error(y_test,y_pred))\n",
    "x=range(10)\n",
    "plt.scatter(x,y_pred)"
   ]
  },
  {
   "cell_type": "markdown",
   "metadata": {},
   "source": [
    "XGBoost \n",
    "=========\n"
   ]
  },
  {
   "cell_type": "raw",
   "metadata": {},
   "source": [
    "from xgboost  import XGBRegressor\n",
    "from sklearn.model_selection import cross_val_score\n",
    "\n",
    "xgb=XGBRegressor(base_score=0.5, booster='gbtree', colsample_bylevel=1,\n",
    "       colsample_bytree=1, gamma=0, learning_rate=0.1, max_delta_step=0,\n",
    "       max_depth=3, min_child_weight=1, missing=None, n_estimators=100,\n",
    "       n_jobs=1, nthread=None, objective='reg:squarederror', random_state=42,\n",
    "       reg_alpha=0, reg_lambda=1, scale_pos_weight=1, seed=None, subsample=1)\n",
    "xgb.fit(x_train,y_train)"
   ]
  },
  {
   "cell_type": "code",
   "execution_count": 442,
   "metadata": {},
   "outputs": [
    {
     "name": "stdout",
     "output_type": "stream",
     "text": [
      "[[     0      4]\n",
      " [     0      5]\n",
      " [     0      6]\n",
      " ...\n",
      " [203440      2]\n",
      " [203440      3]\n",
      " [203440      4]]\n"
     ]
    },
    {
     "ename": "XGBoostError",
     "evalue": "[15:56:50] ../src/c_api/c_api_utils.h:161: Invalid missing value: null\nStack trace:\n  [bt] (0) /usr/local/lib/python3.6/dist-packages/xgboost/lib/libxgboost.so(+0x9133f) [0x7f39a334c33f]\n  [bt] (1) /usr/local/lib/python3.6/dist-packages/xgboost/lib/libxgboost.so(+0x9c811) [0x7f39a3357811]\n  [bt] (2) /usr/local/lib/python3.6/dist-packages/xgboost/lib/libxgboost.so(+0x9cac0) [0x7f39a3357ac0]\n  [bt] (3) /usr/local/lib/python3.6/dist-packages/xgboost/lib/libxgboost.so(XGBoosterPredictFromDense+0x225) [0x7f39a333f005]\n  [bt] (4) /usr/lib/x86_64-linux-gnu/libffi.so.6(ffi_call_unix64+0x4c) [0x7f43475c3dae]\n  [bt] (5) /usr/lib/x86_64-linux-gnu/libffi.so.6(ffi_call+0x22f) [0x7f43475c371f]\n  [bt] (6) /usr/lib/python3.6/lib-dynload/_ctypes.cpython-36m-x86_64-linux-gnu.so(_ctypes_callproc+0x2b4) [0x7f43477d75c4]\n  [bt] (7) /usr/lib/python3.6/lib-dynload/_ctypes.cpython-36m-x86_64-linux-gnu.so(+0x11c33) [0x7f43477d7c33]\n  [bt] (8) /usr/bin/python3(_PyObject_FastCallKeywords+0x19c) [0x5aa69c]\n\n",
     "output_type": "error",
     "traceback": [
      "\u001b[0;31m---------------------------------------------------------------------------\u001b[0m",
      "\u001b[0;31mXGBoostError\u001b[0m                              Traceback (most recent call last)",
      "\u001b[0;32m<ipython-input-442-059436bba491>\u001b[0m in \u001b[0;36m<module>\u001b[0;34m\u001b[0m\n\u001b[1;32m      1\u001b[0m \u001b[0mprint\u001b[0m\u001b[0;34m(\u001b[0m\u001b[0mnp\u001b[0m\u001b[0;34m.\u001b[0m\u001b[0margwhere\u001b[0m\u001b[0;34m(\u001b[0m\u001b[0mx_test\u001b[0m\u001b[0;34m==\u001b[0m\u001b[0;36m0\u001b[0m\u001b[0;34m)\u001b[0m\u001b[0;34m)\u001b[0m\u001b[0;34m\u001b[0m\u001b[0;34m\u001b[0m\u001b[0m\n\u001b[0;32m----> 2\u001b[0;31m \u001b[0my_pred\u001b[0m\u001b[0;34m=\u001b[0m\u001b[0mxgb\u001b[0m\u001b[0;34m.\u001b[0m\u001b[0mpredict\u001b[0m\u001b[0;34m(\u001b[0m\u001b[0mx_test\u001b[0m\u001b[0;34m[\u001b[0m\u001b[0;36m0\u001b[0m\u001b[0;34m:\u001b[0m\u001b[0;36m5\u001b[0m\u001b[0;34m]\u001b[0m\u001b[0;34m)\u001b[0m\u001b[0;34m\u001b[0m\u001b[0;34m\u001b[0m\u001b[0m\n\u001b[0m\u001b[1;32m      3\u001b[0m \u001b[0mprint\u001b[0m\u001b[0;34m(\u001b[0m\u001b[0mmean_squared_error\u001b[0m\u001b[0;34m(\u001b[0m\u001b[0my_test\u001b[0m\u001b[0;34m,\u001b[0m\u001b[0my_pred\u001b[0m\u001b[0;34m)\u001b[0m\u001b[0;34m)\u001b[0m\u001b[0;34m\u001b[0m\u001b[0;34m\u001b[0m\u001b[0m\n",
      "\u001b[0;32m/usr/local/lib/python3.6/dist-packages/xgboost/sklearn.py\u001b[0m in \u001b[0;36mpredict\u001b[0;34m(self, X, output_margin, ntree_limit, validate_features, base_margin, iteration_range)\u001b[0m\n\u001b[1;32m    824\u001b[0m                     \u001b[0mmissing\u001b[0m\u001b[0;34m=\u001b[0m\u001b[0mself\u001b[0m\u001b[0;34m.\u001b[0m\u001b[0mmissing\u001b[0m\u001b[0;34m,\u001b[0m\u001b[0;34m\u001b[0m\u001b[0;34m\u001b[0m\u001b[0m\n\u001b[1;32m    825\u001b[0m                     \u001b[0mbase_margin\u001b[0m\u001b[0;34m=\u001b[0m\u001b[0mbase_margin\u001b[0m\u001b[0;34m,\u001b[0m\u001b[0;34m\u001b[0m\u001b[0;34m\u001b[0m\u001b[0m\n\u001b[0;32m--> 826\u001b[0;31m                     \u001b[0mvalidate_features\u001b[0m\u001b[0;34m=\u001b[0m\u001b[0mvalidate_features\u001b[0m\u001b[0;34m,\u001b[0m\u001b[0;34m\u001b[0m\u001b[0;34m\u001b[0m\u001b[0m\n\u001b[0m\u001b[1;32m    827\u001b[0m                 )\n\u001b[1;32m    828\u001b[0m                 \u001b[0;32mif\u001b[0m \u001b[0m_is_cupy_array\u001b[0m\u001b[0;34m(\u001b[0m\u001b[0mpredts\u001b[0m\u001b[0;34m)\u001b[0m\u001b[0;34m:\u001b[0m\u001b[0;34m\u001b[0m\u001b[0;34m\u001b[0m\u001b[0m\n",
      "\u001b[0;32m/usr/local/lib/python3.6/dist-packages/xgboost/core.py\u001b[0m in \u001b[0;36minplace_predict\u001b[0;34m(self, data, iteration_range, predict_type, missing, validate_features, base_margin, strict_shape)\u001b[0m\n\u001b[1;32m   1855\u001b[0m                     \u001b[0mctypes\u001b[0m\u001b[0;34m.\u001b[0m\u001b[0mbyref\u001b[0m\u001b[0;34m(\u001b[0m\u001b[0mshape\u001b[0m\u001b[0;34m)\u001b[0m\u001b[0;34m,\u001b[0m\u001b[0;34m\u001b[0m\u001b[0;34m\u001b[0m\u001b[0m\n\u001b[1;32m   1856\u001b[0m                     \u001b[0mctypes\u001b[0m\u001b[0;34m.\u001b[0m\u001b[0mbyref\u001b[0m\u001b[0;34m(\u001b[0m\u001b[0mdims\u001b[0m\u001b[0;34m)\u001b[0m\u001b[0;34m,\u001b[0m\u001b[0;34m\u001b[0m\u001b[0;34m\u001b[0m\u001b[0m\n\u001b[0;32m-> 1857\u001b[0;31m                     \u001b[0mctypes\u001b[0m\u001b[0;34m.\u001b[0m\u001b[0mbyref\u001b[0m\u001b[0;34m(\u001b[0m\u001b[0mpreds\u001b[0m\u001b[0;34m)\u001b[0m\u001b[0;34m,\u001b[0m\u001b[0;34m\u001b[0m\u001b[0;34m\u001b[0m\u001b[0m\n\u001b[0m\u001b[1;32m   1858\u001b[0m                 )\n\u001b[1;32m   1859\u001b[0m             )\n",
      "\u001b[0;32m/usr/local/lib/python3.6/dist-packages/xgboost/core.py\u001b[0m in \u001b[0;36m_check_call\u001b[0;34m(ret)\u001b[0m\n\u001b[1;32m    208\u001b[0m     \"\"\"\n\u001b[1;32m    209\u001b[0m     \u001b[0;32mif\u001b[0m \u001b[0mret\u001b[0m \u001b[0;34m!=\u001b[0m \u001b[0;36m0\u001b[0m\u001b[0;34m:\u001b[0m\u001b[0;34m\u001b[0m\u001b[0;34m\u001b[0m\u001b[0m\n\u001b[0;32m--> 210\u001b[0;31m         \u001b[0;32mraise\u001b[0m \u001b[0mXGBoostError\u001b[0m\u001b[0;34m(\u001b[0m\u001b[0mpy_str\u001b[0m\u001b[0;34m(\u001b[0m\u001b[0m_LIB\u001b[0m\u001b[0;34m.\u001b[0m\u001b[0mXGBGetLastError\u001b[0m\u001b[0;34m(\u001b[0m\u001b[0;34m)\u001b[0m\u001b[0;34m)\u001b[0m\u001b[0;34m)\u001b[0m\u001b[0;34m\u001b[0m\u001b[0;34m\u001b[0m\u001b[0m\n\u001b[0m\u001b[1;32m    211\u001b[0m \u001b[0;34m\u001b[0m\u001b[0m\n\u001b[1;32m    212\u001b[0m \u001b[0;34m\u001b[0m\u001b[0m\n",
      "\u001b[0;31mXGBoostError\u001b[0m: [15:56:50] ../src/c_api/c_api_utils.h:161: Invalid missing value: null\nStack trace:\n  [bt] (0) /usr/local/lib/python3.6/dist-packages/xgboost/lib/libxgboost.so(+0x9133f) [0x7f39a334c33f]\n  [bt] (1) /usr/local/lib/python3.6/dist-packages/xgboost/lib/libxgboost.so(+0x9c811) [0x7f39a3357811]\n  [bt] (2) /usr/local/lib/python3.6/dist-packages/xgboost/lib/libxgboost.so(+0x9cac0) [0x7f39a3357ac0]\n  [bt] (3) /usr/local/lib/python3.6/dist-packages/xgboost/lib/libxgboost.so(XGBoosterPredictFromDense+0x225) [0x7f39a333f005]\n  [bt] (4) /usr/lib/x86_64-linux-gnu/libffi.so.6(ffi_call_unix64+0x4c) [0x7f43475c3dae]\n  [bt] (5) /usr/lib/x86_64-linux-gnu/libffi.so.6(ffi_call+0x22f) [0x7f43475c371f]\n  [bt] (6) /usr/lib/python3.6/lib-dynload/_ctypes.cpython-36m-x86_64-linux-gnu.so(_ctypes_callproc+0x2b4) [0x7f43477d75c4]\n  [bt] (7) /usr/lib/python3.6/lib-dynload/_ctypes.cpython-36m-x86_64-linux-gnu.so(+0x11c33) [0x7f43477d7c33]\n  [bt] (8) /usr/bin/python3(_PyObject_FastCallKeywords+0x19c) [0x5aa69c]\n\n"
     ]
    }
   ],
   "source": [
    "print(np.argwhere(x_test==0))\n",
    "y_pred=xgb.predict(x_test[0:5])\n",
    "print(mean_squared_error(y_test,y_pred))"
   ]
  },
  {
   "cell_type": "code",
   "execution_count": 32,
   "metadata": {},
   "outputs": [],
   "source": [
    "\n"
   ]
  }
 ],
 "metadata": {
  "kernelspec": {
   "display_name": "Python 3",
   "language": "python",
   "name": "python3"
  },
  "language_info": {
   "codemirror_mode": {
    "name": "ipython",
    "version": 3
   },
   "file_extension": ".py",
   "mimetype": "text/x-python",
   "name": "python",
   "nbconvert_exporter": "python",
   "pygments_lexer": "ipython3",
   "version": "3.6.8"
  }
 },
 "nbformat": 4,
 "nbformat_minor": 2
}
