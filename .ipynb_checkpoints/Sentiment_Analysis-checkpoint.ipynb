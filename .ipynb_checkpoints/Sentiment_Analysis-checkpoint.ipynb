{
 "cells": [
  {
   "cell_type": "code",
   "execution_count": 44,
   "metadata": {},
   "outputs": [
    {
     "name": "stdout",
     "output_type": "stream",
     "text": [
      "[[0 0 0 ... 0 0 0]\n",
      " [0 0 0 ... 0 0 0]\n",
      " [0 0 0 ... 0 0 0]\n",
      " ...\n",
      " [0 0 0 ... 0 0 0]\n",
      " [0 0 0 ... 0 0 0]\n",
      " [0 0 0 ... 0 0 0]]\n"
     ]
    },
    {
     "data": {
      "text/plain": [
       "LogisticRegression()"
      ]
     },
     "execution_count": 44,
     "metadata": {},
     "output_type": "execute_result"
    }
   ],
   "source": [
    "import pandas as pd\n",
    "from sklearn.naive_bayes import MultinomialNB\n",
    "from sklearn.feature_extraction.text import CountVectorizer\n",
    "from sklearn.model_selection import train_test_split\n",
    "from sklearn.metrics import accuracy_score\n",
    "from sklearn.linear_model import LogisticRegression\n",
    "\n",
    "#read fdaya\n",
    "data=pd.read_csv(\"https://raw.githubusercontent.com/salammemphis/ML/main/amazon_cells_labelled.txt\",sep=\"\\t\")\n",
    "text=data.iloc[:,0]\n",
    "label=data.iloc[:,1]\n",
    "\n",
    "x_train, x_test,y_train,y_test=train_test_split(text,label,test_size=0.3,random_state=42)\n",
    "\n",
    "#tokenize and count\n",
    "vectorizer=CountVectorizer(stop_words=\"english\")\n",
    "x_train=vectorizer.fit_transform(x_train)\n",
    "#print(vectorizer.get_feature_names())\n",
    "print(x_train.toarray())\n",
    "\n",
    "\n",
    "multnomial=MultinomialNB()\n",
    "multnomial.fit(x_train,y_train)\n",
    "\n",
    "logisticRegression=LogisticRegression()\n",
    "logisticRegression.fit(x_train,y_train)"
   ]
  },
  {
   "cell_type": "code",
   "execution_count": 45,
   "metadata": {},
   "outputs": [
    {
     "name": "stdout",
     "output_type": "stream",
     "text": [
      "model's accuracy Bayes 0.7866666666666666\n",
      "model's accuracy Logistic 0.7766666666666666\n"
     ]
    }
   ],
   "source": [
    "test_cnts=vectorizer.transform(x_test)\n",
    "y_pred=multnomial.predict(test_cnts)\n",
    "print(\"model's accuracy Bayes\",accuracy_score(y_pred,y_test))\n",
    "\n",
    "y_pred=logisticRegression.predict(test_cnts)\n",
    "print(\"model's accuracy Logistic\",accuracy_score(y_pred,y_test))"
   ]
  },
  {
   "cell_type": "code",
   "execution_count": 46,
   "metadata": {},
   "outputs": [
    {
     "name": "stdout",
     "output_type": "stream",
     "text": [
      "[0 1]\n"
     ]
    }
   ],
   "source": [
    "email=[\"bad head phone. broke after two days\",\"I enjoyed the features\"]\n",
    "test_cnts=vectorizer.transform(email)\n",
    "y_pred=multnomial.predict(test_cnts)\n",
    "print(y_pred)"
   ]
  },
  {
   "cell_type": "code",
   "execution_count": null,
   "metadata": {},
   "outputs": [],
   "source": [
    "data=pd.read_csv(\"https://raw.githubusercontent.com/salammemphis/ML/main/amazon_cells_labelled.txt\",sep=\"\\t\")\n",
    "data = data[data.sentiment != \"Neutral\"]\n",
    "data['text'] = data['text'].apply(lambda x: x.lower())\n",
    "data['text'] = data['text'].apply((lambda x: re.sub('[^a-zA-z0-9\\s]','',x)))\n",
    "\n",
    "print(data[ data['sentiment'] == 'Positive'].size)\n",
    "print(data[ data['sentiment'] == 'Negative'].size)\n",
    "\n",
    "for idx,row in data.iterrows():\n",
    "    row[0] = row[0].replace('rt',' ')\n",
    "    \n",
    "max_fatures = 2000\n",
    "tokenizer = Tokenizer(num_words=max_fatures, split=' ')\n",
    "tokenizer.fit_on_texts(data['text'].values)\n",
    "X = tokenizer.texts_to_sequences(data['text'].values)\n",
    "X = pad_sequences(X)"
   ]
  }
 ],
 "metadata": {
  "kernelspec": {
   "display_name": "Python 3",
   "language": "python",
   "name": "python3"
  },
  "language_info": {
   "codemirror_mode": {
    "name": "ipython",
    "version": 3
   },
   "file_extension": ".py",
   "mimetype": "text/x-python",
   "name": "python",
   "nbconvert_exporter": "python",
   "pygments_lexer": "ipython3",
   "version": "3.6.8"
  }
 },
 "nbformat": 4,
 "nbformat_minor": 2
}
