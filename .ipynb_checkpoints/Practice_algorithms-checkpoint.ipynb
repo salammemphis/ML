{
 "cells": [
  {
   "cell_type": "code",
   "execution_count": null,
   "metadata": {},
   "outputs": [],
   "source": [
    "#quickSort\n",
    "\n",
    "def partition(A,p,r):\n",
    "    i=p-1\n",
    "    x=A[r]\n",
    "    for j in range(p,r):\n",
    "        if A[j]<=x:\n",
    "            i=i+1\n",
    "            tmp=A[i]\n",
    "            A[i]=A[j]\n",
    "            A[j]=tmp\n",
    "    tmp=A[i+1]\n",
    "    A[i+1]=A[r]\n",
    "    A[r]=tmp\n",
    "    return i+1\n",
    "        \n",
    "def quicksort(A,p,r):\n",
    "    if p<r:\n",
    "        q=partition(A,p,r)\n",
    "        quicksort(A,p,q-1)\n",
    "        quicksort(A,q+1,r)\n",
    "\n",
    "a=[2,8,7,3,5,6,4]\n",
    "quicksort(a,0,len(a)-1)\n",
    "print(a)\n"
   ]
  },
  {
   "cell_type": "code",
   "execution_count": 5,
   "metadata": {},
   "outputs": [
    {
     "name": "stdout",
     "output_type": "stream",
     "text": [
      "[2, 3, 4, 5, 6, 7, 8]\n"
     ]
    }
   ],
   "source": [
    "#mergesort\n",
    "def mergesort(A):\n",
    "    if len(A)<=1:\n",
    "        return A\n",
    "    mid=len(A)//2\n",
    "    l=mergesort(A[0:mid])\n",
    "    r=mergesort(A[mid:])\n",
    "    return merge(l,r)\n",
    "\n",
    "def merge(l,r):\n",
    "    s=[None]*(len(l)+len(r))\n",
    "    i=0\n",
    "    j=0\n",
    "    k=0\n",
    "    while(i<len(l) and j<len(r)):\n",
    "        if l[i]<=r[j]:\n",
    "            s[k]=l[i]\n",
    "            i+=1\n",
    "        else:\n",
    "            s[k]=r[j]\n",
    "            j+=1\n",
    "        k+=1\n",
    "    while(i<len(l)):\n",
    "        s[k]=l[i]\n",
    "        i+=1\n",
    "        k+=1\n",
    "    while(j<len(r)):\n",
    "        s[k]=r[j]\n",
    "        j+=1\n",
    "        k+=1\n",
    "    return s\n",
    "\n",
    "a=[2,8,7,3,5,6,4]\n",
    "a1=[1,3,7,9]\n",
    "a2=[2,5,8,20,30]\n",
    "print(mergesort(a))\n",
    "#print(merge(a1,a2))"
   ]
  },
  {
   "cell_type": "code",
   "execution_count": 17,
   "metadata": {},
   "outputs": [
    {
     "name": "stdout",
     "output_type": "stream",
     "text": [
      "[-3, 2, 5, 8, 20, 30, 100, 500]\n"
     ]
    }
   ],
   "source": [
    "#bublesort\n",
    "\n",
    "def bublesort(a):\n",
    "    for i in range(len(a)):\n",
    "        for j in range(i+1, len(a)):\n",
    "            if a[i]> a[j]:\n",
    "                t=a[i]\n",
    "                a[i]=a[j]\n",
    "                a[j]=t\n",
    "    return a\n",
    "                \n",
    "a2=[500,2,100,5,-3,8,20,30]                \n",
    "print(bublesort(a2))\n"
   ]
  },
  {
   "cell_type": "code",
   "execution_count": null,
   "metadata": {},
   "outputs": [],
   "source": [
    "import numpy as np\n",
    "n=[2,3,6,7]\n",
    "result=[[]]\n",
    "def comb(s):\n",
    "    global result\n",
    "    if len(s)==0: return\n",
    "    result.append(s)\n",
    "    print(s)\n",
    "    for i in range(0, len(s)):\n",
    "        t = s[0:i] + s[i + 1:]\n",
    "        comb(t)\n",
    "\n",
    "res = [[]]\n",
    "comb(n)\n",
    "result=np.unique(result)\n",
    "#print(result)\n",
    "print(len(result))"
   ]
  },
  {
   "cell_type": "code",
   "execution_count": 55,
   "metadata": {},
   "outputs": [
    {
     "name": "stdout",
     "output_type": "stream",
     "text": [
      "[]\n",
      "2\n",
      "2\n",
      "(True, 2)\n"
     ]
    }
   ],
   "source": [
    "#Trie Implementation\n",
    "#print (ord('a'))\n",
    "#print (chr(97))\n",
    "class Trie:\n",
    "    def __init__(self,val=''):\n",
    "        self.isEnd=0\n",
    "        self.cnt=0\n",
    "        self.children={}\n",
    "        self.val=val\n",
    "    def add(self,ch,isEnd):\n",
    "        if ch not in self.children.keys():\n",
    "            self.children[ch]=Trie(ch)\n",
    "        self.cnt=self.cnt+1\n",
    "        self.isEnd=isEnd\n",
    "        return self.children[ch]\n",
    "\n",
    "def insert(strs, root):\n",
    "    isEnd=0\n",
    "    if len(strs)==1:\n",
    "        isEnd=1\n",
    "    chld=root.add(strs[0],isEnd)\n",
    "    isEnd=0\n",
    "    for i in range(1,len(strs)):\n",
    "        if (i==len(strs)-1):\n",
    "            isEnd=1\n",
    "        chld=chld.add(strs[i],isEnd)\n",
    "\n",
    "def traverse(root,path,L):\n",
    "    if root is None:\n",
    "        return\n",
    "    chld=root.children\n",
    "    path.append(root.val)\n",
    "    if chld is None or len(chld.keys())==0:\n",
    "        L.append(path)\n",
    "        return\n",
    "\n",
    "    for k in chld.keys():\n",
    "        #print(k)\n",
    "        traverse(chld[k],path+[],L)\n",
    "def search(root,strs):\n",
    "    for i in range(len(strs)):\n",
    "        chld=root.children\n",
    "        if strs[i] not in chld.keys():\n",
    "            return False\n",
    "        root=chld[strs[i]]\n",
    "        print(root.cnt)\n",
    "    return True, root.cnt\n",
    "    \n",
    "\n",
    "p=[]\n",
    "root=Trie()\n",
    "insert(\"bear\", root)\n",
    "insert(\"bell\",root)\n",
    "insert(\"sport\",root)\n",
    "insert(\"stop\",root)\n",
    "L=[]\n",
    "#traverse(root,[],L)\n",
    "print(L)\n",
    "print(search(root,\"be\"))\n",
    "\n",
    "    \n",
    "        \n",
    "        \n",
    "\n",
    "\n"
   ]
  },
  {
   "cell_type": "code",
   "execution_count": 7,
   "metadata": {},
   "outputs": [
    {
     "name": "stdout",
     "output_type": "stream",
     "text": [
      "et\n",
      "tx\n",
      "tt\n",
      "ex\n",
      "xt\n",
      "xe\n",
      "te\n"
     ]
    }
   ],
   "source": [
    "from itertools import permutations \n",
    "#print(list(permutations(\"text\",2)))\n",
    "d=set(list(permutations(\"text\",2)))\n",
    "for p in d:\n",
    "    print(\"\".join(p))"
   ]
  },
  {
   "cell_type": "markdown",
   "metadata": {},
   "source": [
    "Sorting Object Using Priority Queue\n",
    "========"
   ]
  },
  {
   "cell_type": "code",
   "execution_count": 51,
   "metadata": {},
   "outputs": [
    {
     "name": "stdout",
     "output_type": "stream",
     "text": [
      "khaled 300\n",
      "bh 150\n",
      "Shahinur 120\n",
      "Shahinur 120\n",
      "jeff 110\n"
     ]
    }
   ],
   "source": [
    "import queue\n",
    "class Employee:\n",
    "    def __init__(self, name=None,salary=0, age=0):\n",
    "        self.name=name\n",
    "        self.salary=salary\n",
    "        self.age=age\n",
    "\n",
    "emp1=Employee(\"Shahinur\", -120, 35)\n",
    "emp2=Employee(\"jeff\", -110, 45)\n",
    "emp3=Employee(\"khaled\", -300, 45)\n",
    "emp4=Employee(\"bh\", -150, 40)\n",
    "pq=queue.PriorityQueue()\n",
    "pq.put((emp1.salary,emp1))\n",
    "\n",
    "pq.put((emp2.salary,emp2))\n",
    "pq.put((emp3.salary,emp3))\n",
    "pq.put((emp4.salary,emp4))\n",
    "\n",
    "while(pq.empty()==False):\n",
    "    salary, emp=pq.get()\n",
    "    print(emp.name,-1*salary)\n",
    "\n"
   ]
  },
  {
   "cell_type": "code",
   "execution_count": 13,
   "metadata": {},
   "outputs": [
    {
     "name": "stdout",
     "output_type": "stream",
     "text": [
      "8\n"
     ]
    }
   ],
   "source": [
    "a=10\n",
    "b=12\n",
    "print (b & a)"
   ]
  },
  {
   "cell_type": "code",
   "execution_count": 9,
   "metadata": {},
   "outputs": [
    {
     "name": "stdout",
     "output_type": "stream",
     "text": [
      "9\n",
      "<class 'ZeroDivisionError'>\n",
      "5.0\n"
     ]
    }
   ],
   "source": [
    "import numpy as np\n",
    "\n",
    "import sys\n",
    "\n",
    "arr=np.random.randint(10)\n",
    "print(arr)\n",
    "try:\n",
    "    for i in range(10):\n",
    "        tx=10/0\n",
    "except:\n",
    "    print (sys.exc_info()[0])\n",
    "finally:\n",
    "    print(tx)"
   ]
  },
  {
   "cell_type": "code",
   "execution_count": 34,
   "metadata": {},
   "outputs": [
    {
     "name": "stdout",
     "output_type": "stream",
     "text": [
      "queue is full\n",
      "10\n",
      "11\n"
     ]
    }
   ],
   "source": [
    "a=[[]]*10\n",
    "\n",
    "size=5\n",
    "queue=[]*5\n",
    "\n",
    "def enqueue(e):\n",
    "    if len(queue)<size:\n",
    "        queue.append(e)\n",
    "    else:\n",
    "        print(\"queue is full\")\n",
    "def deq():\n",
    "    if len(queue)>0:\n",
    "        return queue.pop(0)\n",
    "    else:\n",
    "        print(\"Queue is empty\")\n",
    "        return None\n",
    "\n",
    "enqueue(10)\n",
    "enqueue(11)\n",
    "enqueue(12)\n",
    "enqueue(13)\n",
    "enqueue(14)\n",
    "enqueue(17)\n",
    "print(deq())\n",
    "enqueue(18)\n",
    "print(deq())\n"
   ]
  },
  {
   "cell_type": "code",
   "execution_count": 42,
   "metadata": {},
   "outputs": [
    {
     "name": "stdout",
     "output_type": "stream",
     "text": [
      "300\n"
     ]
    }
   ],
   "source": [
    "class staticvar:\n",
    "    val=0\n",
    "    def __init__(self, name, salary):\n",
    "        self.name=name\n",
    "        self.salary=salary\n",
    "        \n",
    "staticvar.val=100\n",
    "o1=staticvar(\"Sh\", 120)\n",
    "o1.val=500\n",
    "o2=staticvar(\"jJ\", 130)\n",
    "o2.val=300\n",
    "print(o2.val)\n",
    "        "
   ]
  },
  {
   "cell_type": "code",
   "execution_count": 96,
   "metadata": {},
   "outputs": [
    {
     "name": "stdout",
     "output_type": "stream",
     "text": [
      "Child.. name 100 3.4\n"
     ]
    }
   ],
   "source": [
    "#polymorphism and inheritance\n",
    "class person:\n",
    "    def __init__(self, name, salary):\n",
    "        self.name=name\n",
    "        self.salary=salary\n",
    "    def printf(self):\n",
    "        print(\"base class\",self.name,self.salary)\n",
    "class student(person):\n",
    "    def __init__(self, name,salary, cgpa):\n",
    "        super().__init__( name, salary)\n",
    "        self.cgpa=cgpa\n",
    "    def printf(self):\n",
    "        print(\"Child..\",self.name,self.salary,self.cgpa)\n",
    "\n",
    "obj=student(\"name\",100,3.4)\n",
    "obj.printf()"
   ]
  },
  {
   "cell_type": "code",
   "execution_count": 44,
   "metadata": {},
   "outputs": [
    {
     "ename": "Exception",
     "evalue": "Dont even think it. Its Singleton",
     "output_type": "error",
     "traceback": [
      "\u001b[0;31m---------------------------------------------------------------------------\u001b[0m",
      "\u001b[0;31mException\u001b[0m                                 Traceback (most recent call last)",
      "\u001b[0;32m<ipython-input-44-ea847e5ea7a9>\u001b[0m in \u001b[0;36m<module>\u001b[0;34m\u001b[0m\n\u001b[1;32m     16\u001b[0m \u001b[0;34m\u001b[0m\u001b[0m\n\u001b[1;32m     17\u001b[0m \u001b[0mo1\u001b[0m\u001b[0;34m=\u001b[0m\u001b[0msingleton\u001b[0m\u001b[0;34m(\u001b[0m\u001b[0;34m)\u001b[0m\u001b[0;34m\u001b[0m\u001b[0;34m\u001b[0m\u001b[0m\n\u001b[0;32m---> 18\u001b[0;31m \u001b[0mo2\u001b[0m\u001b[0;34m=\u001b[0m\u001b[0msingleton\u001b[0m\u001b[0;34m(\u001b[0m\u001b[0;34m)\u001b[0m\u001b[0;34m\u001b[0m\u001b[0;34m\u001b[0m\u001b[0m\n\u001b[0m",
      "\u001b[0;32m<ipython-input-44-ea847e5ea7a9>\u001b[0m in \u001b[0;36m__init__\u001b[0;34m(self)\u001b[0m\n\u001b[1;32m     10\u001b[0m     \u001b[0;32mdef\u001b[0m \u001b[0m__init__\u001b[0m\u001b[0;34m(\u001b[0m\u001b[0mself\u001b[0m\u001b[0;34m)\u001b[0m\u001b[0;34m:\u001b[0m\u001b[0;34m\u001b[0m\u001b[0;34m\u001b[0m\u001b[0m\n\u001b[1;32m     11\u001b[0m         \u001b[0;32mif\u001b[0m \u001b[0msingleton\u001b[0m\u001b[0;34m.\u001b[0m\u001b[0minstance\u001b[0m \u001b[0;32mis\u001b[0m \u001b[0;32mnot\u001b[0m \u001b[0;32mNone\u001b[0m\u001b[0;34m:\u001b[0m\u001b[0;34m\u001b[0m\u001b[0;34m\u001b[0m\u001b[0m\n\u001b[0;32m---> 12\u001b[0;31m             \u001b[0;32mraise\u001b[0m \u001b[0mException\u001b[0m\u001b[0;34m(\u001b[0m\u001b[0;34m\"Dont even think it. Its Singleton\"\u001b[0m\u001b[0;34m)\u001b[0m\u001b[0;34m\u001b[0m\u001b[0;34m\u001b[0m\u001b[0m\n\u001b[0m\u001b[1;32m     13\u001b[0m         \u001b[0;32melse\u001b[0m\u001b[0;34m:\u001b[0m\u001b[0;34m\u001b[0m\u001b[0;34m\u001b[0m\u001b[0m\n\u001b[1;32m     14\u001b[0m              \u001b[0msingleton\u001b[0m\u001b[0;34m.\u001b[0m\u001b[0minstance\u001b[0m\u001b[0;34m=\u001b[0m\u001b[0mself\u001b[0m\u001b[0;34m\u001b[0m\u001b[0;34m\u001b[0m\u001b[0m\n",
      "\u001b[0;31mException\u001b[0m: Dont even think it. Its Singleton"
     ]
    }
   ],
   "source": [
    "#Singleton\n",
    "\n",
    "class singleton:\n",
    "    instance=None\n",
    "    @staticmethod\n",
    "    def getinstance():\n",
    "        if singleton.instance is None:\n",
    "            singleton.instance=singleton()\n",
    "        return singleton.instance\n",
    "    def __init__(self):\n",
    "        if singleton.instance is not None:\n",
    "            raise Exception(\"Dont even think it. Its Singleton\")\n",
    "        else:\n",
    "             singleton.instance=self\n",
    "        \n",
    "\n",
    "o1=singleton()\n",
    "o2=singleton()"
   ]
  },
  {
   "cell_type": "code",
   "execution_count": 55,
   "metadata": {},
   "outputs": [
    {
     "name": "stdout",
     "output_type": "stream",
     "text": [
      "0\n",
      "1\n",
      "2\n",
      "3\n",
      "4\n",
      "5\n",
      "6\n",
      "7\n",
      "8\n",
      "9\n",
      "10\n"
     ]
    }
   ],
   "source": [
    "def testgen():\n",
    "    num=0\n",
    "    while True:\n",
    "        yield num\n",
    "        num=num+1\n",
    "\n",
    "gen=testgen()\n",
    "for i,val in enumerate (gen):\n",
    "    if i >10:\n",
    "        break\n",
    "    print(val)\n"
   ]
  },
  {
   "cell_type": "code",
   "execution_count": 56,
   "metadata": {},
   "outputs": [
    {
     "name": "stdout",
     "output_type": "stream",
     "text": [
      "sun mon tue wed thu fri sat\n"
     ]
    }
   ],
   "source": [
    "weekdays = ['sun','mon','tue','wed','thu','fri','sat']\n",
    "listAsString = ' '.join(weekdays)\n",
    "\n",
    "print(listAsString)"
   ]
  },
  {
   "cell_type": "code",
   "execution_count": 63,
   "metadata": {},
   "outputs": [
    {
     "name": "stdout",
     "output_type": "stream",
     "text": [
      "4\n",
      "45\n",
      "453\n",
      "4531\n",
      "4531\n"
     ]
    }
   ],
   "source": [
    "num=1354\n",
    "rev=0\n",
    "while num>0:\n",
    "    rev=rev*10+num%10\n",
    "    print(rev)\n",
    "    num=int(num/10)\n",
    "print(rev)"
   ]
  },
  {
   "cell_type": "code",
   "execution_count": 53,
   "metadata": {},
   "outputs": [
    {
     "name": "stdout",
     "output_type": "stream",
     "text": [
      "1 9223372036854775807\n",
      "2 9223372036854775807\n",
      "5 9223372036854775807\n",
      "6 9223372036854775807\n",
      "3 9223372036854775807\n",
      "7 9223372036854775807\n",
      "4 9223372036854775807\n",
      "8 9223372036854775807\n",
      "[[2, 6, 3, 4, 8], [2, 6, 3, 7, 4, 8], [2, 6, 3, 7, 8], [2, 6, 7, 4, 8], [2, 6, 7, 8]]\n",
      "1 0\n",
      "2 9223372036854775807\n",
      "5 9223372036854775807\n",
      "6 9223372036854775807\n"
     ]
    },
    {
     "ename": "TypeError",
     "evalue": "'<' not supported between instances of 'node' and 'node'",
     "output_type": "error",
     "traceback": [
      "\u001b[0;31m---------------------------------------------------------------------------\u001b[0m",
      "\u001b[0;31mTypeError\u001b[0m                                 Traceback (most recent call last)",
      "\u001b[0;32m<ipython-input-53-3bf912563a68>\u001b[0m in \u001b[0;36m<module>\u001b[0;34m\u001b[0m\n\u001b[1;32m    106\u001b[0m \u001b[0;34m\u001b[0m\u001b[0m\n\u001b[1;32m    107\u001b[0m \u001b[0mallpaths\u001b[0m\u001b[0;34m(\u001b[0m\u001b[0;36m2\u001b[0m\u001b[0;34m,\u001b[0m\u001b[0;36m8\u001b[0m\u001b[0;34m)\u001b[0m\u001b[0;34m\u001b[0m\u001b[0;34m\u001b[0m\u001b[0m\n\u001b[0;32m--> 108\u001b[0;31m \u001b[0mshortest_path\u001b[0m\u001b[0;34m(\u001b[0m\u001b[0;36m1\u001b[0m\u001b[0;34m,\u001b[0m\u001b[0;36m4\u001b[0m\u001b[0;34m)\u001b[0m\u001b[0;34m\u001b[0m\u001b[0;34m\u001b[0m\u001b[0m\n\u001b[0m\u001b[1;32m    109\u001b[0m \u001b[0;34m\u001b[0m\u001b[0m\n\u001b[1;32m    110\u001b[0m \u001b[0;34m\u001b[0m\u001b[0m\n",
      "\u001b[0;32m<ipython-input-53-3bf912563a68>\u001b[0m in \u001b[0;36mshortest_path\u001b[0;34m(source, dest)\u001b[0m\n\u001b[1;32m     64\u001b[0m     \u001b[0;32mfor\u001b[0m \u001b[0mnd\u001b[0m \u001b[0;32min\u001b[0m \u001b[0mgraph\u001b[0m\u001b[0;34m.\u001b[0m\u001b[0mkeys\u001b[0m\u001b[0;34m(\u001b[0m\u001b[0;34m)\u001b[0m\u001b[0;34m:\u001b[0m\u001b[0;34m\u001b[0m\u001b[0;34m\u001b[0m\u001b[0m\n\u001b[1;32m     65\u001b[0m         \u001b[0mprint\u001b[0m\u001b[0;34m(\u001b[0m\u001b[0mnd\u001b[0m\u001b[0;34m,\u001b[0m\u001b[0mgraph\u001b[0m\u001b[0;34m[\u001b[0m\u001b[0mnd\u001b[0m\u001b[0;34m]\u001b[0m\u001b[0;34m.\u001b[0m\u001b[0mdist\u001b[0m\u001b[0;34m)\u001b[0m\u001b[0;34m\u001b[0m\u001b[0;34m\u001b[0m\u001b[0m\n\u001b[0;32m---> 66\u001b[0;31m         \u001b[0mpq\u001b[0m\u001b[0;34m.\u001b[0m\u001b[0mput\u001b[0m\u001b[0;34m(\u001b[0m\u001b[0;34m(\u001b[0m\u001b[0mgraph\u001b[0m\u001b[0;34m[\u001b[0m\u001b[0mnd\u001b[0m\u001b[0;34m]\u001b[0m\u001b[0;34m.\u001b[0m\u001b[0mdist\u001b[0m\u001b[0;34m,\u001b[0m\u001b[0mgraph\u001b[0m\u001b[0;34m[\u001b[0m\u001b[0mnd\u001b[0m\u001b[0;34m]\u001b[0m\u001b[0;34m)\u001b[0m\u001b[0;34m)\u001b[0m\u001b[0;34m\u001b[0m\u001b[0;34m\u001b[0m\u001b[0m\n\u001b[0m\u001b[1;32m     67\u001b[0m     \u001b[0;32mwhile\u001b[0m\u001b[0;34m(\u001b[0m\u001b[0mpq\u001b[0m\u001b[0;34m.\u001b[0m\u001b[0mempty\u001b[0m\u001b[0;34m(\u001b[0m\u001b[0;34m)\u001b[0m\u001b[0;34m==\u001b[0m\u001b[0;32mFalse\u001b[0m\u001b[0;34m)\u001b[0m\u001b[0;34m:\u001b[0m\u001b[0;34m\u001b[0m\u001b[0;34m\u001b[0m\u001b[0m\n\u001b[1;32m     68\u001b[0m         \u001b[0mdist\u001b[0m\u001b[0;34m,\u001b[0m\u001b[0mnode\u001b[0m\u001b[0;34m=\u001b[0m\u001b[0mpq\u001b[0m\u001b[0;34m.\u001b[0m\u001b[0mget\u001b[0m\u001b[0;34m(\u001b[0m\u001b[0;34m)\u001b[0m\u001b[0;34m\u001b[0m\u001b[0;34m\u001b[0m\u001b[0m\n",
      "\u001b[0;32m/usr/lib/python3.6/queue.py\u001b[0m in \u001b[0;36mput\u001b[0;34m(self, item, block, timeout)\u001b[0m\n\u001b[1;32m    141\u001b[0m                             \u001b[0;32mraise\u001b[0m \u001b[0mFull\u001b[0m\u001b[0;34m\u001b[0m\u001b[0;34m\u001b[0m\u001b[0m\n\u001b[1;32m    142\u001b[0m                         \u001b[0mself\u001b[0m\u001b[0;34m.\u001b[0m\u001b[0mnot_full\u001b[0m\u001b[0;34m.\u001b[0m\u001b[0mwait\u001b[0m\u001b[0;34m(\u001b[0m\u001b[0mremaining\u001b[0m\u001b[0;34m)\u001b[0m\u001b[0;34m\u001b[0m\u001b[0;34m\u001b[0m\u001b[0m\n\u001b[0;32m--> 143\u001b[0;31m             \u001b[0mself\u001b[0m\u001b[0;34m.\u001b[0m\u001b[0m_put\u001b[0m\u001b[0;34m(\u001b[0m\u001b[0mitem\u001b[0m\u001b[0;34m)\u001b[0m\u001b[0;34m\u001b[0m\u001b[0;34m\u001b[0m\u001b[0m\n\u001b[0m\u001b[1;32m    144\u001b[0m             \u001b[0mself\u001b[0m\u001b[0;34m.\u001b[0m\u001b[0munfinished_tasks\u001b[0m \u001b[0;34m+=\u001b[0m \u001b[0;36m1\u001b[0m\u001b[0;34m\u001b[0m\u001b[0;34m\u001b[0m\u001b[0m\n\u001b[1;32m    145\u001b[0m             \u001b[0mself\u001b[0m\u001b[0;34m.\u001b[0m\u001b[0mnot_empty\u001b[0m\u001b[0;34m.\u001b[0m\u001b[0mnotify\u001b[0m\u001b[0;34m(\u001b[0m\u001b[0;34m)\u001b[0m\u001b[0;34m\u001b[0m\u001b[0;34m\u001b[0m\u001b[0m\n",
      "\u001b[0;32m/usr/lib/python3.6/queue.py\u001b[0m in \u001b[0;36m_put\u001b[0;34m(self, item)\u001b[0m\n\u001b[1;32m    225\u001b[0m \u001b[0;34m\u001b[0m\u001b[0m\n\u001b[1;32m    226\u001b[0m     \u001b[0;32mdef\u001b[0m \u001b[0m_put\u001b[0m\u001b[0;34m(\u001b[0m\u001b[0mself\u001b[0m\u001b[0;34m,\u001b[0m \u001b[0mitem\u001b[0m\u001b[0;34m)\u001b[0m\u001b[0;34m:\u001b[0m\u001b[0;34m\u001b[0m\u001b[0;34m\u001b[0m\u001b[0m\n\u001b[0;32m--> 227\u001b[0;31m         \u001b[0mheappush\u001b[0m\u001b[0;34m(\u001b[0m\u001b[0mself\u001b[0m\u001b[0;34m.\u001b[0m\u001b[0mqueue\u001b[0m\u001b[0;34m,\u001b[0m \u001b[0mitem\u001b[0m\u001b[0;34m)\u001b[0m\u001b[0;34m\u001b[0m\u001b[0;34m\u001b[0m\u001b[0m\n\u001b[0m\u001b[1;32m    228\u001b[0m \u001b[0;34m\u001b[0m\u001b[0m\n\u001b[1;32m    229\u001b[0m     \u001b[0;32mdef\u001b[0m \u001b[0m_get\u001b[0m\u001b[0;34m(\u001b[0m\u001b[0mself\u001b[0m\u001b[0;34m)\u001b[0m\u001b[0;34m:\u001b[0m\u001b[0;34m\u001b[0m\u001b[0;34m\u001b[0m\u001b[0m\n",
      "\u001b[0;31mTypeError\u001b[0m: '<' not supported between instances of 'node' and 'node'"
     ]
    }
   ],
   "source": [
    "import sys\n",
    "import queue\n",
    "graph={}\n",
    "num_vert=8\n",
    "class node:\n",
    "    def __init__(self, val=0,dist=sys.maxsize,isvisied=False,parent=None,edge_length=1):\n",
    "        self.val=val\n",
    "        self.dist=dist\n",
    "        self.isvisied=isvisied\n",
    "        self.parent=parent\n",
    "        self.neighbor=[]\n",
    "        self.edge_length=1\n",
    "def add_edges(source,dest):\n",
    "    if source in graph.keys():\n",
    "        sn=graph[source]\n",
    "    else:\n",
    "        sn=node(val=source)\n",
    "        graph[source]=sn\n",
    "    if dest in graph.keys():\n",
    "        dt=graph[dest]\n",
    "    else:\n",
    "        dt=node(val=dest)\n",
    "        graph[dest]=dt\n",
    "    sn.neighbor.append(dt)\n",
    "    #dt.neighbor.append(sn)\n",
    "    \n",
    "add_edges(1,2)\n",
    "add_edges(1,5)\n",
    "add_edges(2,6)\n",
    "add_edges(6,3)\n",
    "add_edges(6,7)\n",
    "add_edges(3,4)\n",
    "add_edges(3,7)\n",
    "add_edges(7,4)\n",
    "add_edges(7,8)\n",
    "add_edges(4,8)\n",
    "#print(len(graph[7].neighbor))\n",
    "\n",
    "def BFS(source):\n",
    "    node=graph[source]\n",
    "    node.parent=None\n",
    "    node.dist=0\n",
    "    node.isvisied=True\n",
    "    q=[]\n",
    "    q.append(node)\n",
    "    while(len(q)>0):\n",
    "        nd=q.pop(0)\n",
    "        for child in nd.neighbor:\n",
    "            if child.isvisied==False:\n",
    "                q.append(child)\n",
    "                child.isvisied=True\n",
    "                child.parent=nd\n",
    "                child.dist=nd.dist+1\n",
    "\n",
    "                \n",
    "def shortest_path(source,dest):\n",
    "    pq=queue.PriorityQueue()\n",
    "    sn=graph[source]\n",
    "    sn.dist=0\n",
    "    sn.parent=None\n",
    "    dn=graph[dest]\n",
    "    S=set()\n",
    "    for nd in graph.keys():\n",
    "        print(nd,graph[nd].dist)\n",
    "        pq.put((graph[nd].dist,graph[nd]))\n",
    "    while(pq.empty()==False):\n",
    "        dist,node=pq.get()\n",
    "        S.add(node.val)\n",
    "        for chld in node.neighbor:\n",
    "            if chld.dist>node.dist+node.edge_length:\n",
    "                chld.dist=node.dist+node.edge_length\n",
    "                chld.parent=node\n",
    "    \n",
    "    path=\"\"\n",
    "    while(dn.parent is not None or dn.parent==sn):\n",
    "        path= str(dn.val)+\"-->\"+path\n",
    "        dn=dn.parent\n",
    "    print(str(source)+\"-->\"+path)\n",
    "    print(S)\n",
    "    \n",
    "        \n",
    "    \n",
    "#BFS(2)   \n",
    "def find_path(s, d, L, C) :\n",
    "    if s.val==d.val or s is None:\n",
    "        C.append(d.val)\n",
    "        L.append(C)\n",
    "        return L\n",
    "    s.isvisied=True\n",
    "    C.append(s.val)\n",
    "    for chld in s.neighbor:\n",
    "        find_path(chld,d,L,C+[])\n",
    "    return \n",
    "\n",
    "def allpaths(source, dest):\n",
    "    if source not in graph.keys() or dest not in graph.keys():\n",
    "        print(\"no path\")\n",
    "        return\n",
    "    else:\n",
    "        sn=graph[source]\n",
    "        dn=graph[dest]\n",
    "        L=[]\n",
    "        find_path(sn,dn,L,[])\n",
    "        print(L)\n",
    "\n",
    "allpaths(2,8)  \n",
    "shortest_path(1,4)\n",
    "    \n",
    "    "
   ]
  },
  {
   "cell_type": "code",
   "execution_count": 172,
   "metadata": {},
   "outputs": [
    {
     "name": "stdout",
     "output_type": "stream",
     "text": [
      "[[2 2 1 2 2 2 1 1 2 1]\n",
      " [2 2 2 2 1 1 2 1 1 2]\n",
      " [1 2 2 1 2 2 1 1 1 2]\n",
      " [2 1 2 2 2 1 1 1 2 1]\n",
      " [2 1 1 1 1 1 2 2 1 1]\n",
      " [1 2 2 1 1 1 1 1 1 2]\n",
      " [2 1 2 2 2 1 1 2 1 2]\n",
      " [2 2 2 1 2 1 1 2 1 2]\n",
      " [2 2 2 2 2 2 2 2 2 1]\n",
      " [1 1 2 1 2 1 1 2 1 2]]\n"
     ]
    }
   ],
   "source": [
    "import pickle\n",
    "import numpy as np\n",
    "dicts={}\n",
    "ss=np.random.randint(1,3,(10,10))\n",
    "tt=np.random.randint(1,3,(10,10))\n",
    "dicts[\"salam\"]=ss\n",
    "dicts[\"john\"]=tt\n",
    "\n",
    "with open(\"test.pickle\",\"wb\") as f:\n",
    "    pickle.dump(dicts,f)\n",
    "\n",
    "with open(\"test.pickle\",\"rb\") as f:\n",
    "    test=pickle.load(f)   \n",
    "print(test[\"salam\"])"
   ]
  },
  {
   "cell_type": "code",
   "execution_count": 179,
   "metadata": {},
   "outputs": [
    {
     "name": "stdout",
     "output_type": "stream",
     "text": [
      "[ 9 10 12]\n"
     ]
    }
   ],
   "source": [
    "a = np.array([[12, 15], [10, 1],[9, 20]])\n",
    "arr1 = np.sort(a, axis = 0)\n",
    "print(arr1[:,0])"
   ]
  },
  {
   "cell_type": "code",
   "execution_count": 189,
   "metadata": {},
   "outputs": [
    {
     "name": "stdout",
     "output_type": "stream",
     "text": [
      "[1, 30, 4, 4, 3, 6, 0, 3, 0, 6]\n",
      "[0, 0, 0, 0, 1, 30, 4, 4, 3, 6]\n"
     ]
    }
   ],
   "source": [
    "arr=[1,30,4,0,4,0,0,3,0,6]\n",
    "pos=0\n",
    "for i in range(len(arr)):\n",
    "    if arr[i]!=0:\n",
    "        arr[pos]=arr[i]\n",
    "        pos+=1\n",
    "\n",
    "print(arr)\n",
    "\n",
    "arr=[1,30,4,0,4,0,0,3,0,6]\n",
    "pos=len(arr)-1\n",
    "for i in range(len(arr)-1,-1,-1):\n",
    "    if arr[i]!=0:\n",
    "        arr[pos]=arr[i]\n",
    "        pos-=1\n",
    "while(pos>=0):\n",
    "    arr[pos]=0\n",
    "    pos-=1\n",
    "print(arr)"
   ]
  },
  {
   "cell_type": "code",
   "execution_count": 197,
   "metadata": {},
   "outputs": [
    {
     "name": "stdout",
     "output_type": "stream",
     "text": [
      "[[1, 8], [10, 20]]\n"
     ]
    }
   ],
   "source": [
    "l=[[1, 5],[1,6], [3, 7], [4, 6], [6, 8], [10,15],[12,20]]\n",
    "i=1\n",
    "\n",
    "while i<len(l):\n",
    "    if l[i-1][0]==l[i][0]:\n",
    "        l[i-1][1]=max(l[i-1][1],l[i][1])\n",
    "        l.pop(i)\n",
    "        continue\n",
    "    if l[i-1][1]>l[i][0] and l[i-1][1]<l[i][1]:\n",
    "        l[i-1][1]=l[i][1]\n",
    "        l.pop(i)\n",
    "        continue\n",
    "    if l[i-1][1]>l[i][1]:\n",
    "        l.pop(i)\n",
    "        continue\n",
    "    i+=1\n",
    "print(l)\n",
    "    \n"
   ]
  },
  {
   "cell_type": "code",
   "execution_count": 7,
   "metadata": {},
   "outputs": [
    {
     "name": "stdout",
     "output_type": "stream",
     "text": [
      "[[1. 1. 1.]\n",
      " [1. 2. 3.]\n",
      " [1. 3. 6.]]\n",
      "[['down-->', 'down-->', 'right-->', 'right-->', 'end'], ['down-->', 'down-->', 'right-->', 'down-->', 'right-->', 'end'], ['down-->', 'down-->', 'right-->', 'down-->', 'right-->', 'down-->', 'end'], ['down-->', 'right-->', 'down-->', 'down-->', 'right-->', 'end'], ['down-->', 'right-->', 'down-->', 'down-->', 'right-->', 'down-->', 'end'], ['down-->', 'right-->', 'down-->', 'right-->', 'down-->', 'down-->', 'end']]\n",
      "6\n"
     ]
    }
   ],
   "source": [
    "#find all path to reach corneter of a grid\n",
    "import numpy as np\n",
    "\n",
    "\n",
    "m=3\n",
    "n=3\n",
    "t=np.zeros((n,m))\n",
    "t[0,:]=1\n",
    "t[:,0]=1\n",
    "\n",
    "for i in range(1,m):\n",
    "    for j in range(1,n):\n",
    "        t[i,j]=t[i-1,j]+t[i,j-1]\n",
    "\n",
    "print(t)\n",
    "def allpath(m,n,i,j,L,C):\n",
    "    if i==m-1 and j==n-1:\n",
    "        C.append(\"end\")\n",
    "        L.append(C)\n",
    "        return L\n",
    "    if i+1 <m:\n",
    "        C.append(\"down-->\")\n",
    "        allpath(m,n,i+1,j,L,C+[])\n",
    "    if j+1 <n:\n",
    "        C.append(\"right-->\")\n",
    "        allpath(m,n,i,j+1,L,C+[])\n",
    "L=[]\n",
    "allpath(m,n,0,0,L,[])\n",
    "print(L)\n",
    "print(len(L))\n"
   ]
  },
  {
   "cell_type": "code",
   "execution_count": 22,
   "metadata": {},
   "outputs": [
    {
     "name": "stdout",
     "output_type": "stream",
     "text": [
      "[[100], [25, 25, 25, 25], [10, 10, 10, 10, 10, 25, 25], [10, 10, 10, 10, 10, 10, 10, 10, 10, 10], [5, 10, 10, 25, 25, 25], [5, 10, 10, 10, 10, 10, 10, 10, 25], [5, 5, 10, 10, 10, 10, 25, 25], [5, 5, 10, 10, 10, 10, 10, 10, 10, 10, 10], [5, 5, 5, 10, 25, 25, 25], [5, 5, 5, 10, 10, 10, 10, 10, 10, 25], [5, 5, 5, 5, 10, 10, 10, 25, 25], [5, 5, 5, 5, 10, 10, 10, 10, 10, 10, 10, 10], [5, 5, 5, 5, 5, 25, 25, 25], [5, 5, 5, 5, 5, 10, 10, 10, 10, 10, 25], [5, 5, 5, 5, 5, 5, 10, 10, 25, 25], [5, 5, 5, 5, 5, 5, 10, 10, 10, 10, 10, 10, 10], [5, 5, 5, 5, 5, 5, 5, 10, 10, 10, 10, 25], [5, 5, 5, 5, 5, 5, 5, 5, 10, 25, 25], [5, 5, 5, 5, 5, 5, 5, 5, 10, 10, 10, 10, 10, 10], [5, 5, 5, 5, 5, 5, 5, 5, 5, 10, 10, 10, 25], [5, 5, 5, 5, 5, 5, 5, 5, 5, 5, 25, 25], [5, 5, 5, 5, 5, 5, 5, 5, 5, 5, 10, 10, 10, 10, 10], [5, 5, 5, 5, 5, 5, 5, 5, 5, 5, 5, 10, 10, 25], [5, 5, 5, 5, 5, 5, 5, 5, 5, 5, 5, 5, 10, 10, 10, 10], [5, 5, 5, 5, 5, 5, 5, 5, 5, 5, 5, 5, 5, 10, 25], [5, 5, 5, 5, 5, 5, 5, 5, 5, 5, 5, 5, 5, 5, 10, 10, 10], [5, 5, 5, 5, 5, 5, 5, 5, 5, 5, 5, 5, 5, 5, 5, 25], [5, 5, 5, 5, 5, 5, 5, 5, 5, 5, 5, 5, 5, 5, 5, 5, 10, 10], [5, 5, 5, 5, 5, 5, 5, 5, 5, 5, 5, 5, 5, 5, 5, 5, 5, 5, 10], [5, 5, 5, 5, 5, 5, 5, 5, 5, 5, 5, 5, 5, 5, 5, 5, 5, 5, 5, 5]]\n"
     ]
    }
   ],
   "source": [
    "import numpy as np\n",
    "#coin change\n",
    "d=25\n",
    "a=[1,2,3,4,6,7,9,10,15]\n",
    "\n",
    "def count(S, i, d,L,C ):\n",
    " \n",
    "    # If n is 0 then there is 1\n",
    "    # solution (do not include any coin)\n",
    "    if (d == 0):\n",
    "        L.append(C)\n",
    "        return L\n",
    " \n",
    "    # If n is less than 0 then no\n",
    "    # solution exists\n",
    "    if (d < 0):\n",
    "        return []\n",
    " \n",
    "    # If there are no coins and n\n",
    "    # is greater than 0, then no\n",
    "    # solution exist\n",
    "    if (i >=len(S) and d >= 1):\n",
    "        return []\n",
    " \n",
    "    # count is sum of solutions (i)\n",
    "    # including S[m-1] (ii) excluding S[m-1]\n",
    "    return count( S, i + 1, d,L,C ) + count( S, i, d-S[i],L,C+[S[i]])\n",
    "\n",
    "arr = [5, 10, 25,100]\n",
    "m = 0\n",
    "L=[]\n",
    "d=100\n",
    "count(arr, 0, d,L,[])\n",
    "print(L)"
   ]
  },
  {
   "cell_type": "code",
   "execution_count": 30,
   "metadata": {},
   "outputs": [
    {
     "name": "stdout",
     "output_type": "stream",
     "text": [
      "[[ 1  2  3  4]\n",
      " [ 5  6  7  8]\n",
      " [ 9 10 11 12]\n",
      " [13 14 15 16]]\n",
      "1\n",
      "2\n",
      "3\n",
      "4\n",
      "8\n",
      "12\n",
      "16\n",
      "15\n",
      "14\n",
      "13\n",
      "9\n",
      "5\n",
      "1\n",
      "2\n",
      "3\n",
      "7\n",
      "11\n",
      "15\n"
     ]
    },
    {
     "ename": "IndexError",
     "evalue": "index 4 is out of bounds for axis 0 with size 4",
     "output_type": "error",
     "traceback": [
      "\u001b[0;31m---------------------------------------------------------------------------\u001b[0m",
      "\u001b[0;31mIndexError\u001b[0m                                Traceback (most recent call last)",
      "\u001b[0;32m<ipython-input-30-3c7e15af713c>\u001b[0m in \u001b[0;36m<module>\u001b[0;34m\u001b[0m\n\u001b[1;32m     16\u001b[0m \u001b[0mprint\u001b[0m\u001b[0;34m(\u001b[0m\u001b[0mt\u001b[0m\u001b[0;34m)\u001b[0m\u001b[0;34m\u001b[0m\u001b[0;34m\u001b[0m\u001b[0m\n\u001b[1;32m     17\u001b[0m \u001b[0;32mwhile\u001b[0m \u001b[0mm\u001b[0m \u001b[0;34m>\u001b[0m\u001b[0;36m0\u001b[0m \u001b[0;32mand\u001b[0m \u001b[0mn\u001b[0m\u001b[0;34m>\u001b[0m\u001b[0;36m0\u001b[0m\u001b[0;34m:\u001b[0m\u001b[0;34m\u001b[0m\u001b[0;34m\u001b[0m\u001b[0m\n\u001b[0;32m---> 18\u001b[0;31m     \u001b[0mprintSpiral\u001b[0m\u001b[0;34m(\u001b[0m\u001b[0mt\u001b[0m\u001b[0;34m,\u001b[0m\u001b[0mm\u001b[0m\u001b[0;34m,\u001b[0m\u001b[0mn\u001b[0m\u001b[0;34m)\u001b[0m\u001b[0;34m\u001b[0m\u001b[0;34m\u001b[0m\u001b[0m\n\u001b[0m\u001b[1;32m     19\u001b[0m     \u001b[0mm\u001b[0m\u001b[0;34m+=\u001b[0m\u001b[0;36m1\u001b[0m\u001b[0;34m\u001b[0m\u001b[0;34m\u001b[0m\u001b[0m\n\u001b[1;32m     20\u001b[0m     \u001b[0mn\u001b[0m\u001b[0;34m-=\u001b[0m\u001b[0;36m1\u001b[0m\u001b[0;34m\u001b[0m\u001b[0;34m\u001b[0m\u001b[0m\n",
      "\u001b[0;32m<ipython-input-30-3c7e15af713c>\u001b[0m in \u001b[0;36mprintSpiral\u001b[0;34m(t, m, n)\u001b[0m\n\u001b[1;32m     11\u001b[0m         \u001b[0mprint\u001b[0m\u001b[0;34m(\u001b[0m\u001b[0mt\u001b[0m\u001b[0;34m[\u001b[0m\u001b[0mi\u001b[0m\u001b[0;34m]\u001b[0m\u001b[0;34m[\u001b[0m\u001b[0mn\u001b[0m\u001b[0;34m-\u001b[0m\u001b[0;36m1\u001b[0m\u001b[0;34m]\u001b[0m\u001b[0;34m)\u001b[0m\u001b[0;34m\u001b[0m\u001b[0;34m\u001b[0m\u001b[0m\n\u001b[1;32m     12\u001b[0m     \u001b[0;32mfor\u001b[0m \u001b[0mi\u001b[0m \u001b[0;32min\u001b[0m \u001b[0mrange\u001b[0m\u001b[0;34m(\u001b[0m\u001b[0mn\u001b[0m\u001b[0;34m-\u001b[0m\u001b[0;36m1\u001b[0m\u001b[0;34m,\u001b[0m\u001b[0;36m0\u001b[0m\u001b[0;34m,\u001b[0m\u001b[0;34m-\u001b[0m\u001b[0;36m1\u001b[0m\u001b[0;34m)\u001b[0m\u001b[0;34m:\u001b[0m\u001b[0;34m\u001b[0m\u001b[0;34m\u001b[0m\u001b[0m\n\u001b[0;32m---> 13\u001b[0;31m         \u001b[0mprint\u001b[0m\u001b[0;34m(\u001b[0m\u001b[0mt\u001b[0m\u001b[0;34m[\u001b[0m\u001b[0mm\u001b[0m\u001b[0;34m-\u001b[0m\u001b[0;36m1\u001b[0m\u001b[0;34m]\u001b[0m\u001b[0;34m[\u001b[0m\u001b[0mi\u001b[0m\u001b[0;34m]\u001b[0m\u001b[0;34m)\u001b[0m\u001b[0;34m\u001b[0m\u001b[0;34m\u001b[0m\u001b[0m\n\u001b[0m\u001b[1;32m     14\u001b[0m     \u001b[0;32mfor\u001b[0m \u001b[0mi\u001b[0m \u001b[0;32min\u001b[0m \u001b[0mrange\u001b[0m\u001b[0;34m(\u001b[0m\u001b[0mm\u001b[0m\u001b[0;34m-\u001b[0m\u001b[0;36m1\u001b[0m\u001b[0;34m,\u001b[0m\u001b[0;36m0\u001b[0m\u001b[0;34m,\u001b[0m\u001b[0;34m-\u001b[0m\u001b[0;36m1\u001b[0m\u001b[0;34m)\u001b[0m\u001b[0;34m:\u001b[0m\u001b[0;34m\u001b[0m\u001b[0;34m\u001b[0m\u001b[0m\n\u001b[1;32m     15\u001b[0m         \u001b[0mprint\u001b[0m\u001b[0;34m(\u001b[0m\u001b[0mt\u001b[0m\u001b[0;34m[\u001b[0m\u001b[0mi\u001b[0m\u001b[0;34m]\u001b[0m\u001b[0;34m[\u001b[0m\u001b[0;36m0\u001b[0m\u001b[0;34m]\u001b[0m\u001b[0;34m)\u001b[0m\u001b[0;34m\u001b[0m\u001b[0;34m\u001b[0m\u001b[0m\n",
      "\u001b[0;31mIndexError\u001b[0m: index 4 is out of bounds for axis 0 with size 4"
     ]
    }
   ],
   "source": [
    "#print matrix spiral\n",
    "import numpy as np\n",
    "m=4\n",
    "n=4\n",
    "t=list(range(1,m*n+1))\n",
    "t=np.reshape(t,(m,n))\n",
    "def printSpiral(t,m,n,i,j):\n",
    "    \n",
    "    for i in range(s,n-1):\n",
    "        print(t[s,i])\n",
    "    for i in range(s,m-1):\n",
    "        print(t[i][n-1])\n",
    "    for i in range(n-1,0,-1):\n",
    "        print(t[m-1][i])\n",
    "    for i in range(m-1,0,-1):\n",
    "        print(t[i][0])\n",
    "print(t)       \n",
    "while m >0 and n>0:\n",
    "    printSpiral(t,m,n)\n",
    "    m-=1\n",
    "    n-=1\n",
    "        \n",
    "\n",
    "        \n",
    "        "
   ]
  },
  {
   "cell_type": "code",
   "execution_count": 34,
   "metadata": {},
   "outputs": [
    {
     "name": "stdout",
     "output_type": "stream",
     "text": [
      "[[ 1  2  3  4  5]\n",
      " [ 6  7  8  9 10]\n",
      " [11 12 13 14 15]\n",
      " [16 17 18 19 20]]\n"
     ]
    },
    {
     "ename": "IndexError",
     "evalue": "index 4 is out of bounds for axis 0 with size 4",
     "output_type": "error",
     "traceback": [
      "\u001b[0;31m---------------------------------------------------------------------------\u001b[0m",
      "\u001b[0;31mIndexError\u001b[0m                                Traceback (most recent call last)",
      "\u001b[0;32m<ipython-input-34-0e2f1164a667>\u001b[0m in \u001b[0;36m<module>\u001b[0;34m\u001b[0m\n\u001b[1;32m     17\u001b[0m             \u001b[0mA\u001b[0m\u001b[0;34m[\u001b[0m\u001b[0mj\u001b[0m\u001b[0;34m]\u001b[0m\u001b[0;34m[\u001b[0m\u001b[0mN\u001b[0m \u001b[0;34m-\u001b[0m \u001b[0;36m1\u001b[0m \u001b[0;34m-\u001b[0m \u001b[0mi\u001b[0m\u001b[0;34m]\u001b[0m \u001b[0;34m=\u001b[0m \u001b[0mtemp\u001b[0m\u001b[0;34m\u001b[0m\u001b[0;34m\u001b[0m\u001b[0m\n\u001b[1;32m     18\u001b[0m \u001b[0;34m\u001b[0m\u001b[0m\n\u001b[0;32m---> 19\u001b[0;31m \u001b[0mrotate90Clockwise\u001b[0m\u001b[0;34m(\u001b[0m\u001b[0mt\u001b[0m\u001b[0;34m)\u001b[0m\u001b[0;34m\u001b[0m\u001b[0;34m\u001b[0m\u001b[0m\n\u001b[0m\u001b[1;32m     20\u001b[0m \u001b[0mprint\u001b[0m\u001b[0;34m(\u001b[0m\u001b[0mt\u001b[0m\u001b[0;34m)\u001b[0m\u001b[0;34m\u001b[0m\u001b[0;34m\u001b[0m\u001b[0m\n",
      "\u001b[0;32m<ipython-input-34-0e2f1164a667>\u001b[0m in \u001b[0;36mrotate90Clockwise\u001b[0;34m(A)\u001b[0m\n\u001b[1;32m     12\u001b[0m         \u001b[0;32mfor\u001b[0m \u001b[0mj\u001b[0m \u001b[0;32min\u001b[0m \u001b[0mrange\u001b[0m\u001b[0;34m(\u001b[0m\u001b[0mi\u001b[0m\u001b[0;34m,\u001b[0m \u001b[0mN\u001b[0m \u001b[0;34m-\u001b[0m \u001b[0mi\u001b[0m \u001b[0;34m-\u001b[0m \u001b[0;36m1\u001b[0m\u001b[0;34m)\u001b[0m\u001b[0;34m:\u001b[0m\u001b[0;34m\u001b[0m\u001b[0;34m\u001b[0m\u001b[0m\n\u001b[1;32m     13\u001b[0m             \u001b[0mtemp\u001b[0m \u001b[0;34m=\u001b[0m \u001b[0mA\u001b[0m\u001b[0;34m[\u001b[0m\u001b[0mi\u001b[0m\u001b[0;34m]\u001b[0m\u001b[0;34m[\u001b[0m\u001b[0mj\u001b[0m\u001b[0;34m]\u001b[0m\u001b[0;34m\u001b[0m\u001b[0;34m\u001b[0m\u001b[0m\n\u001b[0;32m---> 14\u001b[0;31m             \u001b[0mA\u001b[0m\u001b[0;34m[\u001b[0m\u001b[0mi\u001b[0m\u001b[0;34m]\u001b[0m\u001b[0;34m[\u001b[0m\u001b[0mj\u001b[0m\u001b[0;34m]\u001b[0m \u001b[0;34m=\u001b[0m \u001b[0mA\u001b[0m\u001b[0;34m[\u001b[0m\u001b[0mN\u001b[0m \u001b[0;34m-\u001b[0m \u001b[0;36m1\u001b[0m \u001b[0;34m-\u001b[0m \u001b[0mj\u001b[0m\u001b[0;34m]\u001b[0m\u001b[0;34m[\u001b[0m\u001b[0mi\u001b[0m\u001b[0;34m]\u001b[0m\u001b[0;34m\u001b[0m\u001b[0;34m\u001b[0m\u001b[0m\n\u001b[0m\u001b[1;32m     15\u001b[0m             \u001b[0mA\u001b[0m\u001b[0;34m[\u001b[0m\u001b[0mN\u001b[0m \u001b[0;34m-\u001b[0m \u001b[0;36m1\u001b[0m \u001b[0;34m-\u001b[0m \u001b[0mj\u001b[0m\u001b[0;34m]\u001b[0m\u001b[0;34m[\u001b[0m\u001b[0mi\u001b[0m\u001b[0;34m]\u001b[0m \u001b[0;34m=\u001b[0m \u001b[0mA\u001b[0m\u001b[0;34m[\u001b[0m\u001b[0mN\u001b[0m \u001b[0;34m-\u001b[0m \u001b[0;36m1\u001b[0m \u001b[0;34m-\u001b[0m \u001b[0mi\u001b[0m\u001b[0;34m]\u001b[0m\u001b[0;34m[\u001b[0m\u001b[0mN\u001b[0m \u001b[0;34m-\u001b[0m \u001b[0;36m1\u001b[0m \u001b[0;34m-\u001b[0m \u001b[0mj\u001b[0m\u001b[0;34m]\u001b[0m\u001b[0;34m\u001b[0m\u001b[0;34m\u001b[0m\u001b[0m\n\u001b[1;32m     16\u001b[0m             \u001b[0mA\u001b[0m\u001b[0;34m[\u001b[0m\u001b[0mN\u001b[0m \u001b[0;34m-\u001b[0m \u001b[0;36m1\u001b[0m \u001b[0;34m-\u001b[0m \u001b[0mi\u001b[0m\u001b[0;34m]\u001b[0m\u001b[0;34m[\u001b[0m\u001b[0mN\u001b[0m \u001b[0;34m-\u001b[0m \u001b[0;36m1\u001b[0m \u001b[0;34m-\u001b[0m \u001b[0mj\u001b[0m\u001b[0;34m]\u001b[0m \u001b[0;34m=\u001b[0m \u001b[0mA\u001b[0m\u001b[0;34m[\u001b[0m\u001b[0mj\u001b[0m\u001b[0;34m]\u001b[0m\u001b[0;34m[\u001b[0m\u001b[0mN\u001b[0m \u001b[0;34m-\u001b[0m \u001b[0;36m1\u001b[0m \u001b[0;34m-\u001b[0m \u001b[0mi\u001b[0m\u001b[0;34m]\u001b[0m\u001b[0;34m\u001b[0m\u001b[0;34m\u001b[0m\u001b[0m\n",
      "\u001b[0;31mIndexError\u001b[0m: index 4 is out of bounds for axis 0 with size 4"
     ]
    }
   ],
   "source": [
    "#rotate matrix\n",
    "import numpy as np\n",
    "m=4\n",
    "n=5\n",
    "t=list(range(1,m*n+1))\n",
    "t=np.reshape(t,(m,n))\n",
    "print(t)\n",
    "\n",
    "def rotate90Clockwise(A):\n",
    "    N = len(A[0])\n",
    "    for i in range(N // 2):\n",
    "        for j in range(i, N - i - 1):\n",
    "            temp = A[i][j]\n",
    "            A[i][j] = A[N - 1 - j][i]\n",
    "            A[N - 1 - j][i] = A[N - 1 - i][N - 1 - j]\n",
    "            A[N - 1 - i][N - 1 - j] = A[j][N - 1 - i]\n",
    "            A[j][N - 1 - i] = temp\n",
    "\n",
    "rotate90Clockwise(t)\n",
    "print(t)\n"
   ]
  },
  {
   "cell_type": "code",
   "execution_count": 47,
   "metadata": {},
   "outputs": [
    {
     "name": "stdout",
     "output_type": "stream",
     "text": [
      "1\n",
      "2\n",
      "3\n",
      "5\n",
      "8\n",
      "13\n",
      "21\n",
      "34\n"
     ]
    },
    {
     "data": {
      "text/plain": [
       "34"
      ]
     },
     "execution_count": 47,
     "metadata": {},
     "output_type": "execute_result"
    }
   ],
   "source": [
    "#fibonacci \n",
    "#1,1,2,3,4,5....\n",
    "\n",
    "def dpfibbo(n):\n",
    "    if n==0:\n",
    "        return 0\n",
    "    if n==1:\n",
    "        return 1\n",
    "    t0=0\n",
    "    t1=1\n",
    "    s=0\n",
    "    for i in range(n-1):\n",
    "        s=t0+t1\n",
    "        t0=t1\n",
    "        t1=s\n",
    "        print(s)\n",
    "       \n",
    "    return s\n",
    "    \n",
    "\n",
    "\n",
    "\n",
    "def fibbo(n):\n",
    "    if n==0:\n",
    "        return 0\n",
    "    if n==1:\n",
    "        return 1\n",
    "    return fibbo(n-1)+fibbo(n-2)\n",
    "L=[]\n",
    "fibbo(9)\n",
    "dpfibbo(9)\n",
    "#print(L)\n",
    "\n"
   ]
  },
  {
   "cell_type": "code",
   "execution_count": 7,
   "metadata": {},
   "outputs": [
    {
     "name": "stdout",
     "output_type": "stream",
     "text": [
      "ABCA\n",
      "ABAC\n",
      "ACBA\n",
      "ACAB\n",
      "AACB\n",
      "AABC\n",
      "BACA\n",
      "BAAC\n",
      "BCAA\n",
      "BCAA\n",
      "BACA\n",
      "BAAC\n",
      "CBAA\n",
      "CBAA\n",
      "CABA\n",
      "CAAB\n",
      "CAAB\n",
      "CABA\n",
      "ABCA\n",
      "ABAC\n",
      "ACBA\n",
      "ACAB\n",
      "AACB\n",
      "AABC\n"
     ]
    }
   ],
   "source": [
    "def toString(List):\n",
    "    return ''.join(List)\n",
    " \n",
    "# Function to print permutations of string\n",
    "# This function takes three parameters:\n",
    "# 1. String\n",
    "# 2. Starting index of the string\n",
    "# 3. Ending index of the string.\n",
    "def permute(a, l, r):\n",
    "    if l==r:\n",
    "        print (toString(a))\n",
    "    else:\n",
    "        for i in range(l,r+1):\n",
    "            a[l], a[i] = a[i], a[l]\n",
    "            permute(a, l+1, r)\n",
    "            a[l], a[i] = a[i], a[l] # backtrack\n",
    " \n",
    "# Driver program to test the above function\n",
    "string = \"ABCA\"\n",
    "n = len(string)\n",
    "a = list(string)\n",
    "permute(a, 0, n-1)"
   ]
  },
  {
   "cell_type": "code",
   "execution_count": null,
   "metadata": {},
   "outputs": [],
   "source": []
  }
 ],
 "metadata": {
  "kernelspec": {
   "display_name": "Python 3",
   "language": "python",
   "name": "python3"
  }
 },
 "nbformat": 4,
 "nbformat_minor": 2
}
