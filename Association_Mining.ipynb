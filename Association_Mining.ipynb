{
 "cells": [
  {
   "cell_type": "markdown",
   "metadata": {},
   "source": [
    "The main goal of association mining is finding underlying relationship between items. The most common question is asked in association mining- which are the items purchased together? To answer this question two popular methods are used listed below. This analysis is useful to find likelyhood of purchasing item Y if another item X is bought and measure based on confidence\n",
    "\n",
    "Benefits of Association mining:\n",
    "1. if item A and B are bought together more frequently then several steps can be taken to increase the profit. \n",
    "2. A and B can be placed together so that when a customer buys one of the product he doesn't have to go far away to buy the other product.\n",
    "3. People who buy one of the products can be targeted through an advertisement campaign to buy the other.\n",
    "4. Collective discounts can be offered on these products if the customer buys both of them.\n",
    "5. Both A and B can be packaged together.\n",
    "\n",
    "Some terminoloy in association mining.\n",
    "\n",
    "confidencd (Y/X)=(total transaction of X and Y together)/(total transaction of X)\n",
    "\n",
    "Support(Y) = (Transactions containing Y)/(Total Transactions)\n",
    "\n",
    "Lift: likelyhood of buying X and Y together is N times than jusy buying X. Lift <=1 no association between items. \n",
    "\n",
    "Lift(X→Y) = (Confidence (X→Y))/(Support (Y))\n",
    "\n",
    "\n",
    "1. Apriori: very simple algorithm but has huge overhead because database needs to be scanned again and again.\n",
    "2. FP-Growth\n",
    "\n",
    "Lets see an example with implementation\n",
    "====="
   ]
  },
  {
   "cell_type": "code",
   "execution_count": 35,
   "metadata": {},
   "outputs": [],
   "source": [
    "from apyori import apriori\n",
    "import pandas as pd"
   ]
  },
  {
   "cell_type": "code",
   "execution_count": 42,
   "metadata": {},
   "outputs": [
    {
     "name": "stdout",
     "output_type": "stream",
     "text": [
      "7501\n"
     ]
    }
   ],
   "source": [
    "data=pd.read_csv(\"dataset/store_data.csv\", header=None)\n",
    "print(data.shape[0])"
   ]
  },
  {
   "cell_type": "code",
   "execution_count": 43,
   "metadata": {},
   "outputs": [
    {
     "name": "stdout",
     "output_type": "stream",
     "text": [
      "RelationRecord(items=frozenset({'escalope', 'pasta'}), support=0.005865884548726837, ordered_statistics=[OrderedStatistic(items_base=frozenset({'pasta'}), items_add=frozenset({'escalope'}), confidence=0.3728813559322034, lift=4.700811850163794)])\n"
     ]
    }
   ],
   "source": [
    "min_sale_per_week=5\n",
    "min_length=3 # number of items in the rule\n",
    "min_support=min_sale_per_week*7/data.shape[0]\n",
    "transaction = []\n",
    "for i in range(0, data.shape[0]):\n",
    "    transaction.append([str(data.values[i,j]) for j in range(0, 20)])\n",
    "\n",
    "app_ass=apriori(transaction, min_support=min_support, min_confidence=0.2, min_lift=4, min_length=min_length, use_colnames=True)\n",
    "\n",
    "app_ass_result=list(app_ass)\n",
    "print(app_ass_result[0])"
   ]
  },
  {
   "cell_type": "code",
   "execution_count": null,
   "metadata": {},
   "outputs": [],
   "source": []
  },
  {
   "cell_type": "code",
   "execution_count": 44,
   "metadata": {},
   "outputs": [
    {
     "name": "stdout",
     "output_type": "stream",
     "text": [
      "Rule: escalope -> pasta\n",
      "Support: 0.005865884548726837\n",
      "Confidence: 0.3728813559322034\n",
      "Lift: 4.700811850163794\n",
      "=====================================\n",
      "Rule: olive oil -> whole wheat pasta\n",
      "Support: 0.007998933475536596\n",
      "Confidence: 0.2714932126696833\n",
      "Lift: 4.122410097642296\n",
      "=====================================\n",
      "Rule: shrimp -> pasta\n",
      "Support: 0.005065991201173177\n",
      "Confidence: 0.3220338983050847\n",
      "Lift: 4.506672147735896\n",
      "=====================================\n",
      "Rule: nan -> escalope\n",
      "Support: 0.005865884548726837\n",
      "Confidence: 0.3728813559322034\n",
      "Lift: 4.700811850163794\n",
      "=====================================\n",
      "Rule: ground beef -> spaghetti\n",
      "Support: 0.006399146780429276\n",
      "Confidence: 0.3934426229508197\n",
      "Lift: 4.004359721511667\n",
      "=====================================\n",
      "Rule: olive oil -> nan\n",
      "Support: 0.007998933475536596\n",
      "Confidence: 0.2714932126696833\n",
      "Lift: 4.13077198425009\n",
      "=====================================\n",
      "Rule: nan -> shrimp\n",
      "Support: 0.005065991201173177\n",
      "Confidence: 0.3220338983050847\n",
      "Lift: 4.515095833993347\n",
      "=====================================\n",
      "Rule: ground beef -> spaghetti\n",
      "Support: 0.006399146780429276\n",
      "Confidence: 0.3934426229508197\n",
      "Lift: 4.004359721511667\n",
      "=====================================\n"
     ]
    }
   ],
   "source": [
    "for item in app_ass_result:\n",
    "\n",
    "    # first index of the inner list\n",
    "    # Contains base item and add item\n",
    "    pair = item[0] \n",
    "    items = [x for x in pair]\n",
    "    print(\"Rule: \" + items[0] + \" -> \" + items[1])\n",
    "\n",
    "    #second index of the inner list\n",
    "    print(\"Support: \" + str(item[1]))\n",
    "\n",
    "    #third index of the list located at 0th\n",
    "    #of the third index of the inner list\n",
    "\n",
    "    print(\"Confidence: \" + str(item[2][0][2]))\n",
    "    print(\"Lift: \" + str(item[2][0][3]))\n",
    "    print(\"=====================================\")"
   ]
  },
  {
   "cell_type": "markdown",
   "metadata": {},
   "source": [
    "Rule: escalope -> pasta\n",
    "\n",
    "Support: 0.005865884548726837=total transaction contains (escalope)/total transaction\n",
    "\n",
    "Confidence: 0.3728813559322034=37% of the transaction contained escalope and pasta together among all transaction for escalope \n",
    "\n",
    "Lift: 4.700811850163794= likelyhood of escalope and pasta will be sold together 4 times more than escalope alone "
   ]
  },
  {
   "cell_type": "code",
   "execution_count": null,
   "metadata": {},
   "outputs": [],
   "source": []
  }
 ],
 "metadata": {
  "kernelspec": {
   "display_name": "Python 3",
   "language": "python",
   "name": "python3"
  },
  "language_info": {
   "codemirror_mode": {
    "name": "ipython",
    "version": 3
   },
   "file_extension": ".py",
   "mimetype": "text/x-python",
   "name": "python",
   "nbconvert_exporter": "python",
   "pygments_lexer": "ipython3",
   "version": "3.6.8"
  }
 },
 "nbformat": 4,
 "nbformat_minor": 2
}
