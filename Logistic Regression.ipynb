{
 "cells": [
  {
   "cell_type": "code",
   "execution_count": 9,
   "metadata": {},
   "outputs": [
    {
     "name": "stderr",
     "output_type": "stream",
     "text": [
      "/usr/lib/python3.6/importlib/_bootstrap.py:219: RuntimeWarning: numpy.ufunc size changed, may indicate binary incompatibility. Expected 216, got 192\n",
      "  return f(*args, **kwds)\n",
      "/usr/lib/python3.6/importlib/_bootstrap.py:219: RuntimeWarning: numpy.ufunc size changed, may indicate binary incompatibility. Expected 216, got 192\n",
      "  return f(*args, **kwds)\n"
     ]
    }
   ],
   "source": [
    "from sklearn.linear_model import LogisticRegression\n",
    "from sklearn import datasets\n",
    "from sklearn.preprocessing import StandardScaler\n",
    "import pandas as pd\n"
   ]
  },
  {
   "cell_type": "code",
   "execution_count": 26,
   "metadata": {},
   "outputs": [
    {
     "name": "stdout",
     "output_type": "stream",
     "text": [
      "(150, 4) (150,)\n"
     ]
    },
    {
     "data": {
      "text/plain": [
       "array([[-1.05778843,  1.22734962, -1.76331711, -1.63050517],\n",
       "       [ 0.13639033, -1.2746222 ,  0.797777  , -0.9170249 ],\n",
       "       [ 0.13994782, -0.51477634,  2.48025601,  3.14077133]])"
      ]
     },
     "execution_count": 26,
     "metadata": {},
     "output_type": "execute_result"
    }
   ],
   "source": [
    "data=datasets.load_iris()\n",
    "x=data.data\n",
    "y=data.target\n",
    "print(x.shape, y.shape)\n",
    "scaler = StandardScaler()\n",
    "X_std = scaler.fit_transform(x)\n",
    "\n",
    "lreg=LogisticRegression(multi_class='ovr')\n",
    "lreg.fit(X_std,y)\n",
    "\n",
    "lreg.coef_"
   ]
  },
  {
   "cell_type": "code",
   "execution_count": 41,
   "metadata": {},
   "outputs": [],
   "source": [
    "from statsmodels.discrete.discrete_model import Logit, MNLogit\n"
   ]
  },
  {
   "cell_type": "code",
   "execution_count": 42,
   "metadata": {},
   "outputs": [
    {
     "name": "stdout",
     "output_type": "stream",
     "text": [
      "Warning: Maximum number of iterations has been exceeded.\n",
      "         Current function value: 0.000000\n",
      "         Iterations: 35\n"
     ]
    },
    {
     "name": "stderr",
     "output_type": "stream",
     "text": [
      "/usr/local/lib/python3.6/dist-packages/statsmodels/base/model.py:512: ConvergenceWarning: Maximum Likelihood optimization failed to converge. Check mle_retvals\n",
      "  \"Check mle_retvals\", ConvergenceWarning)\n"
     ]
    },
    {
     "data": {
      "text/html": [
       "<table class=\"simpletable\">\n",
       "<caption>MNLogit Regression Results</caption>\n",
       "<tr>\n",
       "  <th>Dep. Variable:</th>           <td>t</td>        <th>  No. Observations:  </th>   <td>   150</td>   \n",
       "</tr>\n",
       "<tr>\n",
       "  <th>Model:</th>                <td>MNLogit</td>     <th>  Df Residuals:      </th>   <td>   140</td>   \n",
       "</tr>\n",
       "<tr>\n",
       "  <th>Method:</th>                 <td>MLE</td>       <th>  Df Model:          </th>   <td>     8</td>   \n",
       "</tr>\n",
       "<tr>\n",
       "  <th>Date:</th>            <td>Fri, 23 Jul 2021</td> <th>  Pseudo R-squ.:     </th>   <td> 1.000</td>   \n",
       "</tr>\n",
       "<tr>\n",
       "  <th>Time:</th>                <td>12:48:36</td>     <th>  Log-Likelihood:    </th> <td>-4.3180e-09</td>\n",
       "</tr>\n",
       "<tr>\n",
       "  <th>converged:</th>             <td>False</td>      <th>  LL-Null:           </th>  <td> -164.79</td>  \n",
       "</tr>\n",
       "<tr>\n",
       "  <th>Covariance Type:</th>     <td>nonrobust</td>    <th>  LLR p-value:       </th>  <td>2.053e-66</td> \n",
       "</tr>\n",
       "</table>\n",
       "<table class=\"simpletable\">\n",
       "<tr>\n",
       "  <th>t=1</th>    <th>coef</th>     <th>std err</th>      <th>z</th>      <th>P>|z|</th>  <th>[0.025</th>    <th>0.975]</th>  \n",
       "</tr>\n",
       "<tr>\n",
       "  <th>0</th>   <td>   -2.1496</td> <td> 1.09e+06</td> <td>-1.97e-06</td> <td> 1.000</td> <td>-2.14e+06</td> <td> 2.14e+06</td>\n",
       "</tr>\n",
       "<tr>\n",
       "  <th>1</th>   <td>  -21.6808</td> <td> 6.52e+06</td> <td>-3.32e-06</td> <td> 1.000</td> <td>-1.28e+07</td> <td> 1.28e+07</td>\n",
       "</tr>\n",
       "<tr>\n",
       "  <th>2</th>   <td>   20.3070</td> <td> 4.92e+06</td> <td> 4.13e-06</td> <td> 1.000</td> <td>-9.64e+06</td> <td> 9.64e+06</td>\n",
       "</tr>\n",
       "<tr>\n",
       "  <th>3</th>   <td>   38.1961</td> <td> 2.07e+07</td> <td> 1.84e-06</td> <td> 1.000</td> <td>-4.06e+07</td> <td> 4.06e+07</td>\n",
       "</tr>\n",
       "<tr>\n",
       "  <th>t</th>   <td>  -16.6806</td> <td> 2.38e+07</td> <td>   -7e-07</td> <td> 1.000</td> <td>-4.67e+07</td> <td> 4.67e+07</td>\n",
       "</tr>\n",
       "<tr>\n",
       "  <th>t=2</th>    <th>coef</th>     <th>std err</th>      <th>z</th>      <th>P>|z|</th>  <th>[0.025</th>    <th>0.975]</th>  \n",
       "</tr>\n",
       "<tr>\n",
       "  <th>0</th>   <td>  -49.1914</td> <td> 1.03e+07</td> <td>-4.77e-06</td> <td> 1.000</td> <td>-2.02e+07</td> <td> 2.02e+07</td>\n",
       "</tr>\n",
       "<tr>\n",
       "  <th>1</th>   <td>  -34.8942</td> <td> 8.37e+06</td> <td>-4.17e-06</td> <td> 1.000</td> <td>-1.64e+07</td> <td> 1.64e+07</td>\n",
       "</tr>\n",
       "<tr>\n",
       "  <th>2</th>   <td>   48.9051</td> <td> 9.28e+06</td> <td> 5.27e-06</td> <td> 1.000</td> <td>-1.82e+07</td> <td> 1.82e+07</td>\n",
       "</tr>\n",
       "<tr>\n",
       "  <th>3</th>   <td>    3.1668</td> <td> 2.46e+07</td> <td> 1.29e-07</td> <td> 1.000</td> <td>-4.82e+07</td> <td> 4.82e+07</td>\n",
       "</tr>\n",
       "<tr>\n",
       "  <th>t</th>   <td>  147.7080</td> <td> 4.54e+07</td> <td> 3.25e-06</td> <td> 1.000</td> <td> -8.9e+07</td> <td>  8.9e+07</td>\n",
       "</tr>\n",
       "</table>"
      ],
      "text/plain": [
       "<class 'statsmodels.iolib.summary.Summary'>\n",
       "\"\"\"\n",
       "                          MNLogit Regression Results                          \n",
       "==============================================================================\n",
       "Dep. Variable:                      t   No. Observations:                  150\n",
       "Model:                        MNLogit   Df Residuals:                      140\n",
       "Method:                           MLE   Df Model:                            8\n",
       "Date:                Fri, 23 Jul 2021   Pseudo R-squ.:                   1.000\n",
       "Time:                        12:48:36   Log-Likelihood:            -4.3180e-09\n",
       "converged:                      False   LL-Null:                       -164.79\n",
       "Covariance Type:            nonrobust   LLR p-value:                 2.053e-66\n",
       "==============================================================================\n",
       "       t=1       coef    std err          z      P>|z|      [0.025      0.975]\n",
       "------------------------------------------------------------------------------\n",
       "0             -2.1496   1.09e+06  -1.97e-06      1.000   -2.14e+06    2.14e+06\n",
       "1            -21.6808   6.52e+06  -3.32e-06      1.000   -1.28e+07    1.28e+07\n",
       "2             20.3070   4.92e+06   4.13e-06      1.000   -9.64e+06    9.64e+06\n",
       "3             38.1961   2.07e+07   1.84e-06      1.000   -4.06e+07    4.06e+07\n",
       "t            -16.6806   2.38e+07     -7e-07      1.000   -4.67e+07    4.67e+07\n",
       "------------------------------------------------------------------------------\n",
       "       t=2       coef    std err          z      P>|z|      [0.025      0.975]\n",
       "------------------------------------------------------------------------------\n",
       "0            -49.1914   1.03e+07  -4.77e-06      1.000   -2.02e+07    2.02e+07\n",
       "1            -34.8942   8.37e+06  -4.17e-06      1.000   -1.64e+07    1.64e+07\n",
       "2             48.9051   9.28e+06   5.27e-06      1.000   -1.82e+07    1.82e+07\n",
       "3              3.1668   2.46e+07   1.29e-07      1.000   -4.82e+07    4.82e+07\n",
       "t            147.7080   4.54e+07   3.25e-06      1.000    -8.9e+07     8.9e+07\n",
       "==============================================================================\n",
       "\"\"\""
      ]
     },
     "execution_count": 42,
     "metadata": {},
     "output_type": "execute_result"
    }
   ],
   "source": [
    "p_x=pd.DataFrame(x)\n",
    "p_x[\"t\"]=y\n",
    "p_x.isnull().sum()\n",
    "p_x.dropna(inplace=True)\n",
    "slogit=MNLogit(p_x[\"t\"],p_x[p_x.columns[0:]]).fit()\n",
    "slogit.summary()"
   ]
  },
  {
   "cell_type": "code",
   "execution_count": null,
   "metadata": {},
   "outputs": [],
   "source": []
  }
 ],
 "metadata": {
  "kernelspec": {
   "display_name": "Python 3",
   "language": "python",
   "name": "python3"
  },
  "language_info": {
   "codemirror_mode": {
    "name": "ipython",
    "version": 3
   },
   "file_extension": ".py",
   "mimetype": "text/x-python",
   "name": "python",
   "nbconvert_exporter": "python",
   "pygments_lexer": "ipython3",
   "version": "3.6.8"
  }
 },
 "nbformat": 4,
 "nbformat_minor": 2
}
